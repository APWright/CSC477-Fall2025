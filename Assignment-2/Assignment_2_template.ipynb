{
  "nbformat": 4,
  "nbformat_minor": 0,
  "metadata": {
    "colab": {
      "provenance": [],
      "cell_execution_strategy": "setup",
      "generative_ai_disabled": true,
      "authorship_tag": "ABX9TyOl/fhItmkBsXeQMQfDoG/W",
      "include_colab_link": true
    },
    "kernelspec": {
      "name": "python3",
      "display_name": "Python 3"
    },
    "language_info": {
      "name": "python"
    }
  },
  "cells": [
    {
      "cell_type": "markdown",
      "metadata": {
        "id": "view-in-github",
        "colab_type": "text"
      },
      "source": [
        "<a href=\"https://colab.research.google.com/github/APWright/CSC477-Fall2025/blob/main/Assignment-2/Assignment_2_template.ipynb\" target=\"_parent\"><img src=\"https://colab.research.google.com/assets/colab-badge.svg\" alt=\"Open In Colab\"/></a>"
      ]
    },
    {
      "cell_type": "markdown",
      "source": [
        "# Assignment 2: Data wrangling and Exploratory Visualization\n"
      ],
      "metadata": {
        "id": "GJUUURJs6ZH8"
      }
    },
    {
      "cell_type": "markdown",
      "source": [
        "\n",
        "  - To complete this excercise start by saving a copy of this template to google drive using the \"Copy to Drive\" button\n",
        "\n",
        "  - In your copy, complete the notebook directly in place at the sections labeled:\n",
        "  ```python\n",
        "  # Your code here\n",
        "  ```\n",
        "\n",
        "  - Once you have finished the exercise, click the Share button at the top of the notebook. Provide anyone with the link view access, then copy the link and submit it in Canvas.\n",
        "  \n",
        "  - Additionally, under File>Download save the notebook file and submit it in Canvas as well."
      ],
      "metadata": {
        "id": "0C4SzrjBLTV0"
      }
    },
    {
      "cell_type": "markdown",
      "source": [
        "In this lab we will be using the dataframe library *polars* and the data visualization library *vega-altiar*. If you are already familiar with libraries such as pandas a lot will be transferable, however altair does work meaningfully differently than other common plotting libraries like matplotlib. First we should start by importing the required libraries and downloading the required datasets by running the following cell."
      ],
      "metadata": {
        "id": "RTtE-ozV6Ux9"
      }
    },
    {
      "cell_type": "code",
      "execution_count": null,
      "metadata": {
        "id": "_9xxEXic56ZL",
        "cellView": "form"
      },
      "outputs": [],
      "source": [
        "# @title Import libraries and setup environment\n",
        "%%capture\n",
        "%pip install vegafusion vl-convert-python\n",
        "\n",
        "!git clone https://github.com/APWright/CSC477-Fall2025.git\n",
        "%cd  CSC477-Fall2025/Assignment-2/\n",
        "\n",
        "\n",
        "import polars as pl\n",
        "import altair as alt\n",
        "import vega_datasets\n",
        "\n",
        "zipcodes = vega_datasets.data.zipcodes().to_dict('records')\n",
        "population = pl.read_csv('population.csv')\n",
        "population_wide = pl.read_csv('population_wide.csv')\n",
        "pop_untidy = pl.read_csv('pop.csv',infer_schema=False)\n",
        "gdp_untidy = pl.read_csv('gdp_pcap.csv',infer_schema=False)\n",
        "emissions_untidy = pl.read_csv('co2_pcap_cons.csv',infer_schema=False)\n",
        "\n",
        "alt.data_transformers.enable(\"vegafusion\")"
      ]
    },
    {
      "cell_type": "markdown",
      "source": [
        "# Part 1: Data Wranging withoutout Dataframes\n",
        "\n",
        "For this exercise, we'll use a dataset of US zipcodes.\n",
        "The dataset is available in the zipcodes array, which is an array of objects. As an example, here's what the first object looks like:"
      ],
      "metadata": {
        "id": "h7CdcETV7IR8"
      }
    },
    {
      "cell_type": "code",
      "source": [
        "zipcodes[0]"
      ],
      "metadata": {
        "id": "qqpEhKw56dyf"
      },
      "execution_count": null,
      "outputs": []
    },
    {
      "cell_type": "markdown",
      "source": [
        "\n",
        "\n",
        "For this part we are working through how data wranging and analysis might work without the use of dedicated DataFrame apis. Therefore for the following cells only use built-in python language features such as Using [`map`](https://docs.python.org/3/library/functions.html#map), [`filter`](https://docs.python.org/3/library/functions.html#filter), and [list comprehensions](https://www.w3schools.com/python/python_lists_comprehension.asp)."
      ],
      "metadata": {
        "id": "p5rkFerN-NGk"
      }
    },
    {
      "cell_type": "markdown",
      "source": [
        "### 1.1: Find the zipcodes associated with the city of San Luis Obispo.\n",
        "\n",
        "Cell should output a list of zipcode records.\n",
        "\n",
        "\n",
        "\n",
        "\n"
      ],
      "metadata": {
        "id": "_jQTXEj__dEz"
      }
    },
    {
      "cell_type": "code",
      "source": [
        "answer_1_1 = ...\n",
        "\n",
        "# Your code here\n",
        "\n",
        "answer_1_1"
      ],
      "metadata": {
        "id": "rMHtjzwr8bk8"
      },
      "execution_count": null,
      "outputs": []
    },
    {
      "cell_type": "markdown",
      "source": [
        "### 1.2: How many zip codes are associated with the state of California?\n",
        "\n",
        "---\n",
        "\n",
        "\n",
        "\n",
        "Cell should output a number.\n",
        "\n",
        "\n",
        "\n",
        "\n"
      ],
      "metadata": {
        "id": "5XtbNR5SBY-t"
      }
    },
    {
      "cell_type": "code",
      "source": [
        "answer_1_2 =  ...\n",
        "\n",
        "# Your code here\n",
        "\n",
        "answer_1_2"
      ],
      "metadata": {
        "id": "4qWsFNtEAofd"
      },
      "execution_count": null,
      "outputs": []
    },
    {
      "cell_type": "markdown",
      "source": [
        "### 1.3: Derived Fields\n",
        "Often in visualization, we want to display derived fields, rather than only the fields in the original dataset.\n",
        "\n",
        "We would like to compute, for each record, the first character of each zipcode. For example, for the zipcode object associated with 93405, we want the following record:\n",
        "\n",
        "\n",
        "```python\n",
        "{\n",
        "  'zip_code': '93401',\n",
        "  'latitude': 35.265573,\n",
        "  'longitude': -120.62122,\n",
        "  'city': 'San Luis Obispo',\n",
        "  'state': 'CA',\n",
        "  'county': 'San Luis Obispo'\n",
        "  'first_digit' : 9 # <--- New field added!\n",
        "}\n",
        "  ```\n",
        "\n",
        "Produce a new list of records that includes a new field called `first_digit` that contains this value.\n",
        "\n",
        "Expected answer is a list of zipcode objects, with each object now also having a `first_digit` key."
      ],
      "metadata": {
        "id": "Tv0q5vSkCxIu"
      }
    },
    {
      "cell_type": "code",
      "source": [
        "answer_1_3 = ...\n",
        "\n",
        "# Your code here\n",
        "\n",
        "answer_1_3 = list(map(add_first_digit, zipcodes))"
      ],
      "metadata": {
        "id": "mMhwcLxmDSSU"
      },
      "execution_count": null,
      "outputs": []
    },
    {
      "cell_type": "markdown",
      "source": [
        "### 1.4: Find the maximum zipcode in the US.\n",
        "\n",
        "[Is this a meaningful value?](https://en.wikipedia.org/wiki/ZIP_Code#Geographic_hierarchy)"
      ],
      "metadata": {
        "id": "KEi4VXIFGktE"
      }
    },
    {
      "cell_type": "code",
      "source": [
        "answer_1_4 = ...\n",
        "\n",
        "# Your code here\n",
        "\n",
        "answer_1_4"
      ],
      "metadata": {
        "id": "Ak3BIGJRDZv9"
      },
      "execution_count": null,
      "outputs": []
    },
    {
      "cell_type": "markdown",
      "source": [
        "# Part 2: Data Wrangling with Polars\n",
        "\n",
        "We can do quite a bit with built-in data strucutres like lists, arrays, dicts, and built-in functions like map, filter, and list comprehensions. However, other common data wrangling operations are unavailable through arrays (like group by operations), or would be inefficient when working with large datasets.\n",
        "\n",
        "That's where [Polars](https://docs.pola.rs/) comes in. Polars is an open source DataFrame library much like (and often interoperable with) [Pandas](https://pandas.pydata.org/) but written in Rust for better performance.\n",
        "\n",
        "***STOP BEFORE YOU CONTINUE***\n",
        "\n",
        "Peruse the [polars user guide ](https://docs.pola.rs/user-guide/getting-started/) before moving on with this section, and keep it as well as the [API Reference](https://docs.pola.rs/api/python/stable/reference/index.html) handy. This lab assignment is intentionally light on direct instruction, partly because the linked resources do it better, and partly because in an upper division course you should be used to reading documentation.\n",
        "\n",
        "\n",
        "\n",
        "Now we can get started and import our zipcode data into a dataframe. The following exercises will ask you to perform some data tasks on the dataframe `df`.\n"
      ],
      "metadata": {
        "id": "FYDvXMBuICg8"
      }
    },
    {
      "cell_type": "code",
      "source": [
        "import polars as pl\n",
        "df = pl.DataFrame(zipcodes)\n",
        "df"
      ],
      "metadata": {
        "id": "GgSdv42fMJCE"
      },
      "execution_count": null,
      "outputs": []
    },
    {
      "cell_type": "markdown",
      "source": [
        "\n",
        "---\n",
        "\n"
      ],
      "metadata": {
        "id": "VH34chPrMt5H"
      }
    },
    {
      "cell_type": "markdown",
      "source": [
        "### 2.1: How many zip codes are there in the US? (Or, how many rows are in your data table?)"
      ],
      "metadata": {
        "id": "XfdWazsjM7zB"
      }
    },
    {
      "cell_type": "code",
      "source": [
        "answer_2_1 = ...\n",
        "\n",
        "# Your Code Here\n",
        "\n",
        "answer_2_1"
      ],
      "metadata": {
        "id": "nO1WO9aeLSGg"
      },
      "execution_count": null,
      "outputs": []
    },
    {
      "cell_type": "markdown",
      "source": [
        "### 2.2 How many counties does each state have?\n",
        "\n",
        " Hint: you will want to look at df.groupby (to group by state), agg (to summarize per state), and n_unique(to find the number of unique county names).\n",
        "\n",
        "  You'll know your answer is right if you see that California has 58 counties."
      ],
      "metadata": {
        "id": "K4rr3xOtOchz"
      }
    },
    {
      "cell_type": "code",
      "source": [
        "answer_2_2 = ...\n",
        "\n",
        "# Your Code Here\n",
        "\n",
        "answer_2_2"
      ],
      "metadata": {
        "id": "1x6GcIvyOgd_"
      },
      "execution_count": null,
      "outputs": []
    },
    {
      "cell_type": "markdown",
      "source": [
        "### 2.3 Derive a column\n",
        "\n",
        "Same as you did with the array in Part 1, we'll now derive a column for our data table. Add a new last_digit column to the data table that is simply the last digit of the zip codes, and cast it as a 8 bit integer (`pl.Int8`). Instead of simply viewing the result, save it in a new variable.\n",
        "\n",
        "It will be useful to have read the documentation on [Expressions](https://docs.pola.rs/user-guide/concepts/expressions-and-contexts/), [Strings](https://docs.pola.rs/user-guide/expressions/strings/), and [Casting](https://docs.pola.rs/user-guide/expressions/casting/).\n"
      ],
      "metadata": {
        "id": "y5nODLdWRyaK"
      }
    },
    {
      "cell_type": "code",
      "source": [
        "answer_2_3 = ...\n",
        "\n",
        "# Your Code Here\n",
        "\n",
        "answer_2_3"
      ],
      "metadata": {
        "id": "u-fY4_GTSXq6"
      },
      "execution_count": null,
      "outputs": []
    },
    {
      "cell_type": "markdown",
      "source": [
        "# A sneak peak of what's to come\n",
        "\n",
        "So how do we use this data in visualization? For most of this course, we're going to use a visualization library called [Vega-Altair](https://altair-viz.github.io/index.html) that allows us to create powerful interactive graphics using a relatively simple declarative syntax. Polars provides built in support for Altair.\n",
        "\n",
        "Run the below cell to see a plot of US zip codes. Expand the source code for the cell below and see the comments, along with some nudges to experiment."
      ],
      "metadata": {
        "id": "9MdCNsRuSTLw"
      }
    },
    {
      "cell_type": "code",
      "source": [
        "# @title US Zip Codes\n",
        "\n",
        "import altair as alt\n",
        "import vega_datasets\n",
        "\n",
        "# Read in polygons from topojson\n",
        "states = alt.topo_feature(vega_datasets.data.us_10m.url, feature='states')\n",
        "\n",
        "#US states background\n",
        "background = alt.Chart(states).mark_geoshape(\n",
        "    fill='lightgray',\n",
        "    stroke='white'\n",
        ").properties(\n",
        "    width=500,\n",
        "    height=300\n",
        ").project('albersUsa')\n",
        "\"\"\"\n",
        "The whole chart is projected (roughly, \"scaled\") using the Albers USA projection.\n",
        "It takes certain liberties with the locations of Alaska and Hawaii to present the\n",
        "map in a confined space.\n",
        "Comment this out to see what happens without it.\n",
        "Also try different projections, like \"albers\", \"equalEarth\", or \"mercator\".\n",
        "\"\"\"\n",
        "\n",
        "# plot zip positions on background\n",
        "points = alt.Chart(df).mark_circle(\n",
        "    size=10,\n",
        "    opacity=0.6,\n",
        ").encode(\n",
        "    longitude='longitude:Q',\n",
        "    latitude='latitude:Q',\n",
        "    tooltip='county',\n",
        "    color='first_digit'\n",
        ")\n",
        "\n",
        "#Layer points and background\n",
        "chart = alt.layer(\n",
        "    background, points\n",
        ").properties(\n",
        "    width=500,\n",
        "    height=500,\n",
        "    padding=10  # Padding ensures labels fit\n",
        ").interactive()\n",
        "\n",
        "chart"
      ],
      "metadata": {
        "cellView": "form",
        "id": "syW06bdhXE-4"
      },
      "execution_count": null,
      "outputs": []
    },
    {
      "cell_type": "markdown",
      "source": [
        "# Part 3: Into the Tidyverse\n",
        "\n",
        "In class we talked about Tidy data. A tidy dataset has three properties:\n",
        "\n",
        "1.  Each variable has its own column.\n",
        "1.    Each observation has its own row.\n",
        "1.    Each value has its own cell.\n",
        "\n",
        "\n",
        "Consider this table of US population counts from 1850 to 2000. It is tidy, since each observation is a row, and each variable is a column.\n",
        "\n",
        "The **age** column depicts an **age** *range*, i.e., when age is 0, it means people aged 0–4. When **age** is 5, it means people aged 5–9.\n",
        "\n"
      ],
      "metadata": {
        "id": "inZ3UQJbas51"
      }
    },
    {
      "cell_type": "code",
      "source": [
        "population"
      ],
      "metadata": {
        "id": "Tgs4oEZsat3t"
      },
      "execution_count": null,
      "outputs": []
    },
    {
      "cell_type": "markdown",
      "source": [
        "The same data could be represented in the following decidedly *un*-tidy table."
      ],
      "metadata": {
        "id": "jXwOWdinxmlD"
      }
    },
    {
      "cell_type": "code",
      "source": [
        "population_wide"
      ],
      "metadata": {
        "id": "0OorYitKxKfH"
      },
      "execution_count": null,
      "outputs": []
    },
    {
      "cell_type": "markdown",
      "source": [
        "Instead of having the different age groups be *values* in the age column, the table spreads them across *multiple rows*. This table can probably be made sense of by a human—for example, in 1850, there were 1,483,789 males in the US aged 0–4.\n",
        "\n",
        "However, it really doesn't lend itself to useful programmatic or visual analyses."
      ],
      "metadata": {
        "id": "kC4W8e9z0amY"
      }
    },
    {
      "cell_type": "markdown",
      "source": [
        "## 3.1: Reshaping Dataframes\n",
        "\n",
        "Polars provides the `pivot` and `unpivot` functions to help with reshaping data tables. Using the linked documentation as a guide, complete the following steps.\n",
        "\n",
        " Return a table that looks identical to `population_wide`.\n",
        "\n",
        " *Hint*: You don't have to type out all the column names in an array, and you can check with `.equals` method fo dataframes"
      ],
      "metadata": {
        "id": "sbx3A9qX0h1n"
      }
    },
    {
      "cell_type": "code",
      "source": [
        "answer_3_1 = ...\n",
        "\n",
        "# Your code here\n",
        "\n",
        "answer_3_1"
      ],
      "metadata": {
        "id": "dAVrQroDye98"
      },
      "execution_count": null,
      "outputs": []
    },
    {
      "cell_type": "markdown",
      "source": [
        "## 3.2: Folding, and merging multiple datasets\n",
        "\n",
        "Consider the following three SUPER UNTIDY tables from the [Gapminder](https://www.gapminder.org/data/) project.\n",
        "\n",
        "First, we have data about countries' per-capita CO2 emissions (in tonnes). The table is very wide...\n",
        "\n"
      ],
      "metadata": {
        "id": "guD1Jmbo1oi9"
      }
    },
    {
      "cell_type": "code",
      "source": [
        "emissions_untidy"
      ],
      "metadata": {
        "id": "8CYyppxT8Jj2"
      },
      "execution_count": null,
      "outputs": []
    },
    {
      "cell_type": "markdown",
      "source": [
        "Next, we have data about countries' populations and projected populations from 1800–2100. (Not to be confused with the US population dataset we played with in Part 3.1.)"
      ],
      "metadata": {
        "id": "HdngOgIN8KCh"
      }
    },
    {
      "cell_type": "code",
      "source": [
        "pop_untidy"
      ],
      "metadata": {
        "id": "MbEq9OZW8P1O"
      },
      "execution_count": null,
      "outputs": []
    },
    {
      "cell_type": "markdown",
      "source": [
        "Finally, we have data (and projections) about the countries' GDP per capita (in inflation adjusted 2017 USD) from 1800–2100."
      ],
      "metadata": {
        "id": "v1m_g0gK8UGp"
      }
    },
    {
      "cell_type": "code",
      "source": [
        "gdp_untidy"
      ],
      "metadata": {
        "id": "cm861IuK8ZOC"
      },
      "execution_count": null,
      "outputs": []
    },
    {
      "cell_type": "markdown",
      "source": [
        "Our goal in this part is to all of this data into one tidy dataset. That is, we want a table that looks something like this.\n",
        "\n",
        "\n",
        "\n",
        "| Country     | Year | Emissions | GDP | Population |\n",
        "|-------------|------|-----------|-----|-------|\n",
        "| Afghanistan | 1800 | 0.001 | 481 | 3.28M |\n",
        "| Afghanistan | 1801 | 0.001 | 481 | 3.28M |\n",
        "| Afghanistan | 1803 | 0.001 | 481 | 3.28M |\n",
        "| Angola      | 1800 | 0.009 | 373 | 1.57M |\n",
        "| Angola      | 1801 | 0.009 | 374 | 1.57M |\n",
        "| Angola      | 1802 | 0.009 | 376 | 1.57M |\n",
        "|\tand |\tso \t| on |\t... |\n",
        "\n",
        "\n",
        "Where each row is an observation (a specific country's values in a specific year) and each column is an attribute.\n",
        "\n",
        "In order to do this you will need to first tidy up the individual tables of each data source. Then you will need to combine the individual tables together into one tidy dataframe. Consider the [`join`](https://docs.pola.rs/user-guide/transformations/joins/) operation, and make sure to be careful about the kind of join used, as not all of the tables have data for all of the same years. For example, what if one table had no CO2 data for a given year and country? Should that year be omitted entirely from the merged table? Or should those cells be given empty values?\n",
        "\n",
        "Similarly, what if the columns were named different things, like year in one table and emissionYear in another table? The various join methods provide options for handling these cases. Please give them a brief look in case you encounter these situations in future assignments."
      ],
      "metadata": {
        "id": "h_5b7j9a8tMV"
      }
    },
    {
      "cell_type": "code",
      "source": [
        "answer_3_2 = ...\n",
        "\n",
        "# Your code here\n",
        "\n",
        "answer_3_2"
      ],
      "metadata": {
        "id": "jA1p8j8O2IgC"
      },
      "execution_count": null,
      "outputs": []
    },
    {
      "cell_type": "markdown",
      "source": [
        "## 3.3: Cleaning and Wrangling Data"
      ],
      "metadata": {
        "id": "J1nGyZpRuJwe"
      }
    },
    {
      "cell_type": "markdown",
      "source": [
        "Finally, you'll notice that the numerical fields don't really have numbers in them. The original data source (Gapminder) has provided the bigger numbers as strings, i.e., instead of the number 3280000, the table contains the value \"3.28M\".\n",
        "\n",
        "This makes things easy for a human to read, but really isn't going to work for visualization.\n",
        "\n",
        "\n",
        "\n",
        "\n",
        "The work of transforming, processing, and cleaning data to make it work for visualization and analysis is generally called *data wrangling* and in most data science and data engineering work takes up a shockingly large percentage of your actual time and effort. Polars provides many powerful and effeicent ways to do much of this work, in particular, ensure that you have fully understood Polars [expressions and contexts](https://docs.pola.rs/user-guide/concepts/expressions-and-contexts/).\n",
        "\n",
        "\n",
        "In the function below, define a polars **expression** that when run in a `with_columns` context will transform a series of strings such as \"3.28M\" into a series of numbers of a given datatype (either floats or integers)."
      ],
      "metadata": {
        "id": "aC5PkLb__zx0"
      }
    },
    {
      "cell_type": "code",
      "source": [
        "def parse_number_shorthand(series_name, dtype):\n",
        "  answer_3_3 = ...\n",
        "\n",
        "  # Your code here\n",
        "\n",
        "  return answer_3_3"
      ],
      "metadata": {
        "id": "k9_7EU1YUyB2"
      },
      "execution_count": null,
      "outputs": []
    },
    {
      "cell_type": "code",
      "source": [
        "gapminder_tidy = answer_3_2.with_columns(\n",
        "    parse_number_shorthand('year',pl.Int32),\n",
        "    parse_number_shorthand('population',pl.Int32),\n",
        "    parse_number_shorthand('gdp_per_capita',pl.Int32),\n",
        "    parse_number_shorthand('emissions_per_capita',pl.Float32),\n",
        ")\n",
        "gapminder_tidy"
      ],
      "metadata": {
        "id": "k59MIgliVWdZ"
      },
      "execution_count": null,
      "outputs": []
    },
    {
      "cell_type": "markdown",
      "source": [
        "Output should look somthing like this\n",
        "\n",
        "\n",
        "| country\t| year\t| population| \temissions_per_capita\t|gdp_per_capita|\n",
        "|--|--|--|--|--|\n",
        "|str|\ti32\t|i32\t|f32\t|i32|\n",
        "|--|--|--|--|--|\n",
        "|\"Afghanistan\"|\t1800\t|3280000|\t0.001\t|481|\n",
        "|\"Angola\"|\t1800|\t1570000|\t0.009|\t373|\n",
        "|\"Albania\"|\t1800|\t400000|\t0.001|\t469|\n",
        "|\"Andorra\"|1800|\t2650|\t0.333\t|1370|\n",
        "|\"UAE\"|\t1800|\t40200|\t0.063|\t1140|\n",
        "|...|...|...|...|...|"
      ],
      "metadata": {
        "id": "Ivqcr_VsBzi-"
      }
    },
    {
      "cell_type": "markdown",
      "source": [
        "## 3.4: Summarizing Data"
      ],
      "metadata": {
        "id": "cSAaI5fzuW-y"
      }
    },
    {
      "cell_type": "markdown",
      "source": [
        "Now that we have wrangled our data into a useable form we can start to do some analysis and data summarization. Here calculate the total cumulative overall (**not** per capita) CO2 emissions from the USA from 1800-2022."
      ],
      "metadata": {
        "id": "kzZ56E-KDdX1"
      }
    },
    {
      "cell_type": "code",
      "source": [
        "answer_3_4 = ...\n",
        "\n",
        "# Your code here\n",
        "\n",
        "answer_3_4"
      ],
      "metadata": {
        "id": "GkiKBDP_shK8"
      },
      "execution_count": null,
      "outputs": []
    },
    {
      "cell_type": "markdown",
      "source": [
        "# Using Tidy Data for Interactive Visualization"
      ],
      "metadata": {
        "id": "gJk1Twu3urFe"
      }
    },
    {
      "cell_type": "markdown",
      "source": [
        "At last now we have built a dataframe that can be used to asnwer questions about our data, and can be integrated with interactive data visualization libraries like Altair. Run the cell below for an example of a reporoduction of the [famous gapminder animation](https://www.youtube.com/watch?v=hVimVzgtD6w), where you can use the slider to progress through the years, hover over circles to see the countries they represent, and zoom in to find interesting patters. I recomend you spend some time going over the source code as well, and play around with the choices I made in order to start learning Altair as it will be the primary python based library we will be using."
      ],
      "metadata": {
        "id": "FoIINVWeEnIC"
      }
    },
    {
      "cell_type": "code",
      "source": [
        "# @title Gapminder Interactive Animation\n",
        "year_slider = alt.binding_range(min=1950,max=2022, name='Year')\n",
        "selector = alt.selection_point(name='year_select',fields=['year'], bind=year_slider,value=1950)\n",
        "\n",
        "scatter = alt.Chart(gapminder_tidy).mark_circle(opacity=0.80).encode(\n",
        "        x=(alt.X('gdp_per_capita')\n",
        "              .sort(field= 'population', order= 'descending')\n",
        "              .scale(type=\"log\",domain=(100, 1000000))\n",
        "              .axis(grid=False)\n",
        "              .title('GDP per capita, log scale')\n",
        "          ),\n",
        "        y=(alt.Y('emissions_per_capita')\n",
        "              .sort(field= 'population', order= 'descending')\n",
        "              .scale(type=\"log\",domain=(0.001, 100))\n",
        "              .axis(grid=False)\n",
        "              .title('CO2 emissions (tonnes per capita), log scale')\n",
        "          ),\n",
        "        color=(alt.Color('country',legend=None)\n",
        "              .sort(field= 'country', order= 'descending')\n",
        "          ),\n",
        "        size=(alt.Size('population',legend=None)\n",
        "              .scale(range=(10, 10000))\n",
        "          ),\n",
        "        tooltip=['country','population','emissions_per_capita']\n",
        ").add_params(\n",
        "    selector\n",
        ").transform_filter(\n",
        "    selector\n",
        ")\n",
        "\n",
        "background_year = alt.Chart(gapminder_tidy).mark_text(\n",
        "    baseline='middle',\n",
        "    fontSize=75,\n",
        "    opacity=0.1\n",
        ").encode(\n",
        "    text='year:O'\n",
        ").transform_filter(\n",
        "    selector\n",
        ").transform_aggregate(\n",
        "    year='max(year)'\n",
        ")\n",
        "\n",
        "\n",
        "chart = alt.layer(\n",
        "    scatter, background_year\n",
        ").properties(\n",
        "    width=500,\n",
        "    height=500,\n",
        "    padding=10  # Padding ensures labels fit\n",
        ").configure_axis(\n",
        "    labelFontSize=12,\n",
        "    titleFontSize=12\n",
        ").interactive()\n",
        "\n",
        "chart\n",
        "\n"
      ],
      "metadata": {
        "cellView": "form",
        "id": "hiUJ97-wA6_a"
      },
      "execution_count": null,
      "outputs": []
    }
  ]
}