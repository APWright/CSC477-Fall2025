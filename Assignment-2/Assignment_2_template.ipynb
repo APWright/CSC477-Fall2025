{
  "nbformat": 4,
  "nbformat_minor": 0,
  "metadata": {
    "colab": {
      "provenance": [],
      "cell_execution_strategy": "setup",
      "generative_ai_disabled": true,
      "authorship_tag": "ABX9TyP709GvwhkS1O94H+ENNcdR",
      "include_colab_link": true
    },
    "kernelspec": {
      "name": "python3",
      "display_name": "Python 3"
    },
    "language_info": {
      "name": "python"
    }
  },
  "cells": [
    {
      "cell_type": "markdown",
      "metadata": {
        "id": "view-in-github",
        "colab_type": "text"
      },
      "source": [
        "<a href=\"https://colab.research.google.com/github/APWright/CSC477-Fall2025/blob/main/Assignment-2/Assignment_2_template.ipynb\" target=\"_parent\"><img src=\"https://colab.research.google.com/assets/colab-badge.svg\" alt=\"Open In Colab\"/></a>"
      ]
    },
    {
      "cell_type": "markdown",
      "source": [
        "# Assignment 2: Data Wrangling"
      ],
      "metadata": {
        "id": "GJUUURJs6ZH8"
      }
    },
    {
      "cell_type": "markdown",
      "source": [
        "\n",
        "  - To complete this excercise start by saving a copy of this template to google drive using the \"Copy to Drive\" button\n",
        "\n",
        "  - In your copy, complete the notebook directly in place at the sections labeled:\n",
        "  ```python\n",
        "  # Your code here\n",
        "  ```\n",
        "\n",
        "  - Once you have finished the exercise, click the Share button at the top of the notebook. Provide anyone with the link view access, then copy the link and submit it in Canvas.\n",
        "  \n",
        "  - Additionally, under File>Download save the notebook file and submit it in Canvas as well."
      ],
      "metadata": {
        "id": "0C4SzrjBLTV0"
      }
    },
    {
      "cell_type": "markdown",
      "source": [
        "In this lab we will be using the dataframe library *polars* and the data visualization library *vega-altiar*. If you are already familiar with libraries such as pandas a lot will be transferable, however altair does work meaningfully differently than other common plotting libraries like matplotlib. First we should start by importing the required libraries and downloading the required datasets by running the following cell."
      ],
      "metadata": {
        "id": "RTtE-ozV6Ux9"
      }
    },
    {
      "cell_type": "code",
      "execution_count": 1,
      "metadata": {
        "id": "_9xxEXic56ZL",
        "cellView": "form"
      },
      "outputs": [],
      "source": [
        "# @title Import libraries and setup environment\n",
        "%%capture\n",
        "%pip install vegafusion vl-convert-python\n",
        "\n",
        "!git clone https://github.com/APWright/CSC477-Fall2025.git\n",
        "%cd  CSC477-Fall2025/Assignment-2/\n",
        "\n",
        "\n",
        "import polars as pl\n",
        "import altair as alt\n",
        "import vega_datasets\n",
        "\n",
        "zipcodes = vega_datasets.data.zipcodes().to_dict('records')\n",
        "population = pl.read_csv('population.csv')\n",
        "population_wide = pl.read_csv('population_wide.csv')\n",
        "pop_untidy = pl.read_csv('pop.csv',infer_schema=False)\n",
        "gdp_untidy = pl.read_csv('gdp_pcap.csv',infer_schema=False)\n",
        "emissions_untidy = pl.read_csv('co2_pcap_cons.csv',infer_schema=False)\n",
        "\n",
        "alt.data_transformers.enable(\"vegafusion\")"
      ]
    },
    {
      "cell_type": "markdown",
      "source": [
        "# Part 1: Data wrangling without Dataframes\n",
        "\n",
        "For this exercise, we'll use a dataset of US zipcodes.\n",
        "The dataset is available in the zipcodes array, which is an array of objects. As an example, here's what the first object looks like:"
      ],
      "metadata": {
        "id": "h7CdcETV7IR8"
      }
    },
    {
      "cell_type": "code",
      "source": [
        "zipcodes[0]"
      ],
      "metadata": {
        "id": "qqpEhKw56dyf",
        "outputId": "db8fed0c-99fb-4831-9605-4dfed08b64bd",
        "colab": {
          "base_uri": "https://localhost:8080/"
        }
      },
      "execution_count": 2,
      "outputs": [
        {
          "output_type": "execute_result",
          "data": {
            "text/plain": [
              "{'zip_code': '00501',\n",
              " 'latitude': 40.922326,\n",
              " 'longitude': -72.637078,\n",
              " 'city': 'Holtsville',\n",
              " 'state': 'NY',\n",
              " 'county': 'Suffolk'}"
            ]
          },
          "metadata": {},
          "execution_count": 2
        }
      ]
    },
    {
      "cell_type": "markdown",
      "source": [
        "\n",
        "\n",
        "For this part we are working through how data wranging and analysis might work without the use of dedicated DataFrame apis. Therefore for the following cells only use built-in python language features such as Using [`map`](https://docs.python.org/3/library/functions.html#map), [`filter`](https://docs.python.org/3/library/functions.html#filter), and [list comprehensions](https://www.w3schools.com/python/python_lists_comprehension.asp)."
      ],
      "metadata": {
        "id": "p5rkFerN-NGk"
      }
    },
    {
      "cell_type": "markdown",
      "source": [
        "## 1.1: Find the zipcodes associated with the city of San Luis Obispo.\n",
        "___\n",
        "Cell should output a list of zipcode records.\n",
        "\n",
        "\n",
        "\n",
        "\n"
      ],
      "metadata": {
        "id": "_jQTXEj__dEz"
      }
    },
    {
      "cell_type": "code",
      "source": [
        "answer_1_1 = ...\n",
        "\n",
        "# Your code here\n",
        "\n",
        "answer_1_1"
      ],
      "metadata": {
        "id": "rMHtjzwr8bk8"
      },
      "execution_count": null,
      "outputs": []
    },
    {
      "cell_type": "markdown",
      "source": [
        "## 1.2: How many zip codes are associated with the state of California?\n",
        "\n",
        "---\n",
        "\n",
        "\n",
        "\n",
        "Cell should output a number.\n",
        "\n",
        "\n",
        "\n",
        "\n"
      ],
      "metadata": {
        "id": "5XtbNR5SBY-t"
      }
    },
    {
      "cell_type": "code",
      "source": [
        "answer_1_2 =  ...\n",
        "\n",
        "# Your code here\n",
        "\n",
        "answer_1_2"
      ],
      "metadata": {
        "id": "4qWsFNtEAofd"
      },
      "execution_count": null,
      "outputs": []
    },
    {
      "cell_type": "markdown",
      "source": [
        "## 1.3: Derived Fields\n",
        "___\n",
        "\n",
        "Often in visualization, we want to display derived fields, rather than only the fields in the original dataset.\n",
        "\n",
        "We would like to compute, for each record, the first character of each zipcode. For example, for the zipcode object associated with 93405, we want the following record:\n",
        "\n",
        "\n",
        "```python\n",
        "{\n",
        "  'zip_code': '93401',\n",
        "  'latitude': 35.265573,\n",
        "  'longitude': -120.62122,\n",
        "  'city': 'San Luis Obispo',\n",
        "  'state': 'CA',\n",
        "  'county': 'San Luis Obispo'\n",
        "  'first_digit' : 9 # <--- New field added!\n",
        "}\n",
        "  ```\n",
        "\n",
        "Produce a new list of records that includes a new field called `first_digit` that contains this value.\n",
        "\n",
        "Expected answer is a list of zipcode objects, with each object now also having a `first_digit` key."
      ],
      "metadata": {
        "id": "Tv0q5vSkCxIu"
      }
    },
    {
      "cell_type": "code",
      "source": [
        "answer_1_3 = ...\n",
        "\n",
        "# Your code here\n",
        "\n",
        "answer_1_3 = list(map(add_first_digit, zipcodes))"
      ],
      "metadata": {
        "id": "mMhwcLxmDSSU"
      },
      "execution_count": null,
      "outputs": []
    },
    {
      "cell_type": "markdown",
      "source": [
        "## 1.4: Find the maximum zipcode in the US.\n",
        "___\n",
        "[Is this a meaningful value?](https://en.wikipedia.org/wiki/ZIP_Code#Geographic_hierarchy)"
      ],
      "metadata": {
        "id": "KEi4VXIFGktE"
      }
    },
    {
      "cell_type": "code",
      "source": [
        "answer_1_4 = ...\n",
        "\n",
        "# Your code here\n",
        "\n",
        "answer_1_4"
      ],
      "metadata": {
        "id": "Ak3BIGJRDZv9"
      },
      "execution_count": null,
      "outputs": []
    },
    {
      "cell_type": "markdown",
      "source": [
        "# Part 2: Data wrangling with Polars\n",
        "\n",
        "We can do quite a bit with built-in data strucutres like lists, arrays, dicts, and built-in functions like map, filter, and list comprehensions. However, other common data wrangling operations are unavailable through arrays (like group by operations), or would be inefficient when working with large datasets.\n",
        "\n",
        "That's where [Polars](https://docs.pola.rs/) comes in. Polars is an open source DataFrame library much like (and often interoperable with) [Pandas](https://pandas.pydata.org/) but written in Rust for better performance.\n",
        "\n",
        "***STOP BEFORE YOU CONTINUE***\n",
        "\n",
        "Peruse the [polars user guide ](https://docs.pola.rs/user-guide/getting-started/) before moving on with this section, and keep it as well as the [API Reference](https://docs.pola.rs/api/python/stable/reference/index.html) handy. This lab assignment is intentionally light on direct instruction, partly because the linked resources do it better, and partly because in an upper division course you should be used to reading documentation.\n",
        "\n",
        "\n",
        "\n",
        "Now we can get started and import our zipcode data into a dataframe. The following exercises will ask you to perform some data tasks on the dataframe `df`.\n"
      ],
      "metadata": {
        "id": "FYDvXMBuICg8"
      }
    },
    {
      "cell_type": "code",
      "source": [
        "import polars as pl\n",
        "df = pl.DataFrame(zipcodes)\n",
        "df"
      ],
      "metadata": {
        "id": "GgSdv42fMJCE",
        "outputId": "bac2454c-9e46-4534-9ac5-859b1de4ea41",
        "colab": {
          "base_uri": "https://localhost:8080/",
          "height": 443
        }
      },
      "execution_count": 3,
      "outputs": [
        {
          "output_type": "execute_result",
          "data": {
            "text/plain": [
              "shape: (42_049, 6)\n",
              "┌──────────┬───────────┬─────────────┬─────────────┬───────┬────────────────────────┐\n",
              "│ zip_code ┆ latitude  ┆ longitude   ┆ city        ┆ state ┆ county                 │\n",
              "│ ---      ┆ ---       ┆ ---         ┆ ---         ┆ ---   ┆ ---                    │\n",
              "│ str      ┆ f64       ┆ f64         ┆ str         ┆ str   ┆ str                    │\n",
              "╞══════════╪═══════════╪═════════════╪═════════════╪═══════╪════════════════════════╡\n",
              "│ 00501    ┆ 40.922326 ┆ -72.637078  ┆ Holtsville  ┆ NY    ┆ Suffolk                │\n",
              "│ 00544    ┆ 40.922326 ┆ -72.637078  ┆ Holtsville  ┆ NY    ┆ Suffolk                │\n",
              "│ 00601    ┆ 18.165273 ┆ -66.722583  ┆ Adjuntas    ┆ PR    ┆ Adjuntas               │\n",
              "│ 00602    ┆ 18.393103 ┆ -67.180953  ┆ Aguada      ┆ PR    ┆ Aguada                 │\n",
              "│ 00603    ┆ 18.455913 ┆ -67.14578   ┆ Aguadilla   ┆ PR    ┆ Aguadilla              │\n",
              "│ …        ┆ …         ┆ …           ┆ …           ┆ …     ┆ …                      │\n",
              "│ 99926    ┆ 55.094325 ┆ -131.566827 ┆ Metlakatla  ┆ AK    ┆ Prince Wales Ketchikan │\n",
              "│ 99927    ┆ 55.517921 ┆ -132.003244 ┆ Point Baker ┆ AK    ┆ Prince Wales Ketchikan │\n",
              "│ 99928    ┆ 55.395359 ┆ -131.67537  ┆ Ward Cove   ┆ AK    ┆ Ketchikan Gateway      │\n",
              "│ 99929    ┆ 56.449893 ┆ -132.364407 ┆ Wrangell    ┆ AK    ┆ Wrangell Petersburg    │\n",
              "│ 99950    ┆ 55.542007 ┆ -131.432682 ┆ Ketchikan   ┆ AK    ┆ Ketchikan Gateway      │\n",
              "└──────────┴───────────┴─────────────┴─────────────┴───────┴────────────────────────┘"
            ],
            "text/html": [
              "<div><style>\n",
              ".dataframe > thead > tr,\n",
              ".dataframe > tbody > tr {\n",
              "  text-align: right;\n",
              "  white-space: pre-wrap;\n",
              "}\n",
              "</style>\n",
              "<small>shape: (42_049, 6)</small><table border=\"1\" class=\"dataframe\"><thead><tr><th>zip_code</th><th>latitude</th><th>longitude</th><th>city</th><th>state</th><th>county</th></tr><tr><td>str</td><td>f64</td><td>f64</td><td>str</td><td>str</td><td>str</td></tr></thead><tbody><tr><td>&quot;00501&quot;</td><td>40.922326</td><td>-72.637078</td><td>&quot;Holtsville&quot;</td><td>&quot;NY&quot;</td><td>&quot;Suffolk&quot;</td></tr><tr><td>&quot;00544&quot;</td><td>40.922326</td><td>-72.637078</td><td>&quot;Holtsville&quot;</td><td>&quot;NY&quot;</td><td>&quot;Suffolk&quot;</td></tr><tr><td>&quot;00601&quot;</td><td>18.165273</td><td>-66.722583</td><td>&quot;Adjuntas&quot;</td><td>&quot;PR&quot;</td><td>&quot;Adjuntas&quot;</td></tr><tr><td>&quot;00602&quot;</td><td>18.393103</td><td>-67.180953</td><td>&quot;Aguada&quot;</td><td>&quot;PR&quot;</td><td>&quot;Aguada&quot;</td></tr><tr><td>&quot;00603&quot;</td><td>18.455913</td><td>-67.14578</td><td>&quot;Aguadilla&quot;</td><td>&quot;PR&quot;</td><td>&quot;Aguadilla&quot;</td></tr><tr><td>&hellip;</td><td>&hellip;</td><td>&hellip;</td><td>&hellip;</td><td>&hellip;</td><td>&hellip;</td></tr><tr><td>&quot;99926&quot;</td><td>55.094325</td><td>-131.566827</td><td>&quot;Metlakatla&quot;</td><td>&quot;AK&quot;</td><td>&quot;Prince Wales Ketchikan&quot;</td></tr><tr><td>&quot;99927&quot;</td><td>55.517921</td><td>-132.003244</td><td>&quot;Point Baker&quot;</td><td>&quot;AK&quot;</td><td>&quot;Prince Wales Ketchikan&quot;</td></tr><tr><td>&quot;99928&quot;</td><td>55.395359</td><td>-131.67537</td><td>&quot;Ward Cove&quot;</td><td>&quot;AK&quot;</td><td>&quot;Ketchikan Gateway&quot;</td></tr><tr><td>&quot;99929&quot;</td><td>56.449893</td><td>-132.364407</td><td>&quot;Wrangell&quot;</td><td>&quot;AK&quot;</td><td>&quot;Wrangell Petersburg&quot;</td></tr><tr><td>&quot;99950&quot;</td><td>55.542007</td><td>-131.432682</td><td>&quot;Ketchikan&quot;</td><td>&quot;AK&quot;</td><td>&quot;Ketchikan Gateway&quot;</td></tr></tbody></table></div>"
            ]
          },
          "metadata": {},
          "execution_count": 3
        }
      ]
    },
    {
      "cell_type": "markdown",
      "source": [
        "\n",
        "---\n",
        "\n"
      ],
      "metadata": {
        "id": "VH34chPrMt5H"
      }
    },
    {
      "cell_type": "markdown",
      "source": [
        "## 2.1: How many zip codes are there in the US? (Or, how many rows are in your data table?)\n",
        "___"
      ],
      "metadata": {
        "id": "XfdWazsjM7zB"
      }
    },
    {
      "cell_type": "code",
      "source": [
        "answer_2_1 = ...\n",
        "\n",
        "# Your Code Here\n",
        "\n",
        "answer_2_1"
      ],
      "metadata": {
        "id": "nO1WO9aeLSGg"
      },
      "execution_count": null,
      "outputs": []
    },
    {
      "cell_type": "markdown",
      "source": [
        "## 2.2 How many counties does each state have?\n",
        "___\n",
        " Hint: you will want to look at df.groupby (to group by state), agg (to summarize per state), and n_unique(to find the number of unique county names).\n",
        "\n",
        "  You'll know your answer is right if you see that California has 58 counties."
      ],
      "metadata": {
        "id": "K4rr3xOtOchz"
      }
    },
    {
      "cell_type": "code",
      "source": [
        "answer_2_2 = ...\n",
        "\n",
        "# Your Code Here\n",
        "\n",
        "answer_2_2"
      ],
      "metadata": {
        "id": "1x6GcIvyOgd_"
      },
      "execution_count": null,
      "outputs": []
    },
    {
      "cell_type": "markdown",
      "source": [
        "## 2.3 Derive a column\n",
        "___\n",
        "Same as you did with the array in Part 1, we'll now derive a column for our data table. Add a new last_digit column to the data table that is simply the last digit of the zip codes, and cast it as a 8 bit integer (`pl.Int8`). Instead of simply viewing the result, save it in a new variable.\n",
        "\n",
        "It will be useful to have read the documentation on [Expressions](https://docs.pola.rs/user-guide/concepts/expressions-and-contexts/), [Strings](https://docs.pola.rs/user-guide/expressions/strings/), and [Casting](https://docs.pola.rs/user-guide/expressions/casting/).\n"
      ],
      "metadata": {
        "id": "y5nODLdWRyaK"
      }
    },
    {
      "cell_type": "code",
      "source": [
        "answer_2_3 = ...\n",
        "\n",
        "# Your Code Here\n",
        "\n",
        "answer_2_3"
      ],
      "metadata": {
        "id": "u-fY4_GTSXq6"
      },
      "execution_count": null,
      "outputs": []
    },
    {
      "cell_type": "markdown",
      "source": [
        "# A sneak peak of what's to come\n",
        "\n",
        "So how do we use this data in visualization? For most of this course, we're going to use a visualization library called [Vega-Altair](https://altair-viz.github.io/index.html) that allows us to create powerful interactive graphics using a relatively simple declarative syntax. Polars provides built in support for Altair.\n",
        "\n",
        "Run the below cell to see a plot of US zip codes. Expand the source code for the cell below and see the comments, along with some nudges to experiment."
      ],
      "metadata": {
        "id": "9MdCNsRuSTLw"
      }
    },
    {
      "cell_type": "code",
      "source": [
        "# @title US Zip Codes\n",
        "\n",
        "import altair as alt\n",
        "import vega_datasets\n",
        "\n",
        "# Read in polygons from topojson\n",
        "states = alt.topo_feature(vega_datasets.data.us_10m.url, feature='states')\n",
        "\n",
        "#US states background\n",
        "background = alt.Chart(states).mark_geoshape(\n",
        "    fill='lightgray',\n",
        "    stroke='white'\n",
        ").properties(\n",
        "    width=500,\n",
        "    height=300\n",
        ").project('albersUsa')\n",
        "\"\"\"\n",
        "The whole chart is projected (roughly, \"scaled\") using the Albers USA projection.\n",
        "It takes certain liberties with the locations of Alaska and Hawaii to present the\n",
        "map in a confined space.\n",
        "Comment this out to see what happens without it.\n",
        "Also try different projections, like \"albers\", \"equalEarth\", or \"mercator\".\n",
        "\"\"\"\n",
        "\n",
        "# plot zip positions on background\n",
        "points = alt.Chart(df).mark_circle(\n",
        "    size=10,\n",
        "    opacity=0.6,\n",
        ").encode(\n",
        "    longitude='longitude:Q',\n",
        "    latitude='latitude:Q',\n",
        "    tooltip='county',\n",
        "    color='first_digit'\n",
        ")\n",
        "\n",
        "#Layer points and background\n",
        "chart = alt.layer(\n",
        "    background, points\n",
        ").properties(\n",
        "    width=500,\n",
        "    height=500,\n",
        "    padding=10  # Padding ensures labels fit\n",
        ").interactive()\n",
        "\n",
        "chart"
      ],
      "metadata": {
        "cellView": "form",
        "id": "syW06bdhXE-4"
      },
      "execution_count": null,
      "outputs": []
    },
    {
      "cell_type": "markdown",
      "source": [
        "# Part 3: Into the Tidyverse\n",
        "\n",
        "In class we talked about Tidy data. A tidy dataset has three properties:\n",
        "\n",
        "1.  Each variable has its own column.\n",
        "1.    Each observation has its own row.\n",
        "1.    Each value has its own cell.\n",
        "\n",
        "\n",
        "Consider this table of US population counts from 1850 to 2000. It is tidy, since each observation is a row, and each variable is a column.\n",
        "\n",
        "The **age** column depicts an **age** *range*, i.e., when age is 0, it means people aged 0–4. When **age** is 5, it means people aged 5–9.\n",
        "\n"
      ],
      "metadata": {
        "id": "inZ3UQJbas51"
      }
    },
    {
      "cell_type": "code",
      "source": [
        "population"
      ],
      "metadata": {
        "id": "Tgs4oEZsat3t",
        "outputId": "8fec84c5-475f-4823-dcbc-ece1af270b0d",
        "colab": {
          "base_uri": "https://localhost:8080/",
          "height": 443
        }
      },
      "execution_count": 4,
      "outputs": [
        {
          "output_type": "execute_result",
          "data": {
            "text/plain": [
              "shape: (570, 4)\n",
              "┌──────┬─────┬────────┬─────────┐\n",
              "│ year ┆ age ┆ sex    ┆ people  │\n",
              "│ ---  ┆ --- ┆ ---    ┆ ---     │\n",
              "│ i64  ┆ i64 ┆ str    ┆ i64     │\n",
              "╞══════╪═════╪════════╪═════════╡\n",
              "│ 1850 ┆ 0   ┆ male   ┆ 1483789 │\n",
              "│ 1850 ┆ 0   ┆ female ┆ 1450376 │\n",
              "│ 1850 ┆ 5   ┆ male   ┆ 1411067 │\n",
              "│ 1850 ┆ 5   ┆ female ┆ 1359668 │\n",
              "│ 1850 ┆ 10  ┆ male   ┆ 1260099 │\n",
              "│ …    ┆ …   ┆ …      ┆ …       │\n",
              "│ 2000 ┆ 80  ┆ female ┆ 3221898 │\n",
              "│ 2000 ┆ 85  ┆ male   ┆ 970357  │\n",
              "│ 2000 ┆ 85  ┆ female ┆ 1981156 │\n",
              "│ 2000 ┆ 90  ┆ male   ┆ 336303  │\n",
              "│ 2000 ┆ 90  ┆ female ┆ 1064581 │\n",
              "└──────┴─────┴────────┴─────────┘"
            ],
            "text/html": [
              "<div><style>\n",
              ".dataframe > thead > tr,\n",
              ".dataframe > tbody > tr {\n",
              "  text-align: right;\n",
              "  white-space: pre-wrap;\n",
              "}\n",
              "</style>\n",
              "<small>shape: (570, 4)</small><table border=\"1\" class=\"dataframe\"><thead><tr><th>year</th><th>age</th><th>sex</th><th>people</th></tr><tr><td>i64</td><td>i64</td><td>str</td><td>i64</td></tr></thead><tbody><tr><td>1850</td><td>0</td><td>&quot;male&quot;</td><td>1483789</td></tr><tr><td>1850</td><td>0</td><td>&quot;female&quot;</td><td>1450376</td></tr><tr><td>1850</td><td>5</td><td>&quot;male&quot;</td><td>1411067</td></tr><tr><td>1850</td><td>5</td><td>&quot;female&quot;</td><td>1359668</td></tr><tr><td>1850</td><td>10</td><td>&quot;male&quot;</td><td>1260099</td></tr><tr><td>&hellip;</td><td>&hellip;</td><td>&hellip;</td><td>&hellip;</td></tr><tr><td>2000</td><td>80</td><td>&quot;female&quot;</td><td>3221898</td></tr><tr><td>2000</td><td>85</td><td>&quot;male&quot;</td><td>970357</td></tr><tr><td>2000</td><td>85</td><td>&quot;female&quot;</td><td>1981156</td></tr><tr><td>2000</td><td>90</td><td>&quot;male&quot;</td><td>336303</td></tr><tr><td>2000</td><td>90</td><td>&quot;female&quot;</td><td>1064581</td></tr></tbody></table></div>"
            ]
          },
          "metadata": {},
          "execution_count": 4
        }
      ]
    },
    {
      "cell_type": "markdown",
      "source": [
        "The same data could be represented in the following decidedly *un*-tidy table."
      ],
      "metadata": {
        "id": "jXwOWdinxmlD"
      }
    },
    {
      "cell_type": "code",
      "source": [
        "population_wide"
      ],
      "metadata": {
        "id": "0OorYitKxKfH",
        "outputId": "fc9400dd-8efd-4e42-a996-4059b3332058",
        "colab": {
          "base_uri": "https://localhost:8080/",
          "height": 443
        }
      },
      "execution_count": 5,
      "outputs": [
        {
          "output_type": "execute_result",
          "data": {
            "text/plain": [
              "shape: (30, 21)\n",
              "┌────────┬──────┬─────────┬──────────┬───┬─────────┬─────────┬─────────┬─────────┐\n",
              "│ sex    ┆ year ┆ 0       ┆ 5        ┆ … ┆ 75      ┆ 80      ┆ 85      ┆ 90      │\n",
              "│ ---    ┆ ---  ┆ ---     ┆ ---      ┆   ┆ ---     ┆ ---     ┆ ---     ┆ ---     │\n",
              "│ str    ┆ i64  ┆ i64     ┆ i64      ┆   ┆ i64     ┆ i64     ┆ i64     ┆ i64     │\n",
              "╞════════╪══════╪═════════╪══════════╪═══╪═════════╪═════════╪═════════╪═════════╡\n",
              "│ male   ┆ 1850 ┆ 1483789 ┆ 1411067  ┆ … ┆ 40834   ┆ 23449   ┆ 8186    ┆ 5259    │\n",
              "│ female ┆ 1850 ┆ 1450376 ┆ 1359668  ┆ … ┆ 40229   ┆ 22949   ┆ 10511   ┆ 6569    │\n",
              "│ male   ┆ 1860 ┆ 2120846 ┆ 1804467  ┆ … ┆ 56699   ┆ 29007   ┆ 10434   ┆ 7232    │\n",
              "│ female ┆ 1860 ┆ 2092162 ┆ 1778772  ┆ … ┆ 57597   ┆ 29506   ┆ 14053   ┆ 6622    │\n",
              "│ male   ┆ 1870 ┆ 2800083 ┆ 2428469  ┆ … ┆ 86929   ┆ 47427   ┆ 15891   ┆ 8649    │\n",
              "│ …      ┆ …    ┆ …       ┆ …        ┆ … ┆ …       ┆ …       ┆ …       ┆ …       │\n",
              "│ female ┆ 1980 ┆ 8081854 ┆ 8275881  ┆ … ┆ 2951759 ┆ 1919292 ┆ 1023115 ┆ 499046  │\n",
              "│ male   ┆ 1990 ┆ 9307465 ┆ 9274732  ┆ … ┆ 2344932 ┆ 1342996 ┆ 588790  ┆ 238459  │\n",
              "│ female ┆ 1990 ┆ 8894007 ┆ 8799955  ┆ … ┆ 3723980 ┆ 2545730 ┆ 1419494 ┆ 745146  │\n",
              "│ male   ┆ 2000 ┆ 9735380 ┆ 10552146 ┆ … ┆ 2912655 ┆ 1902638 ┆ 970357  ┆ 336303  │\n",
              "│ female ┆ 2000 ┆ 9310714 ┆ 10069564 ┆ … ┆ 4355644 ┆ 3221898 ┆ 1981156 ┆ 1064581 │\n",
              "└────────┴──────┴─────────┴──────────┴───┴─────────┴─────────┴─────────┴─────────┘"
            ],
            "text/html": [
              "<div><style>\n",
              ".dataframe > thead > tr,\n",
              ".dataframe > tbody > tr {\n",
              "  text-align: right;\n",
              "  white-space: pre-wrap;\n",
              "}\n",
              "</style>\n",
              "<small>shape: (30, 21)</small><table border=\"1\" class=\"dataframe\"><thead><tr><th>sex</th><th>year</th><th>0</th><th>5</th><th>10</th><th>15</th><th>20</th><th>25</th><th>30</th><th>35</th><th>40</th><th>45</th><th>50</th><th>55</th><th>60</th><th>65</th><th>70</th><th>75</th><th>80</th><th>85</th><th>90</th></tr><tr><td>str</td><td>i64</td><td>i64</td><td>i64</td><td>i64</td><td>i64</td><td>i64</td><td>i64</td><td>i64</td><td>i64</td><td>i64</td><td>i64</td><td>i64</td><td>i64</td><td>i64</td><td>i64</td><td>i64</td><td>i64</td><td>i64</td><td>i64</td><td>i64</td></tr></thead><tbody><tr><td>&quot;male&quot;</td><td>1850</td><td>1483789</td><td>1411067</td><td>1260099</td><td>1077133</td><td>1017281</td><td>862547</td><td>730638</td><td>588487</td><td>475911</td><td>384211</td><td>321343</td><td>194080</td><td>174976</td><td>106827</td><td>73677</td><td>40834</td><td>23449</td><td>8186</td><td>5259</td></tr><tr><td>&quot;female&quot;</td><td>1850</td><td>1450376</td><td>1359668</td><td>1216114</td><td>1110619</td><td>1003841</td><td>799482</td><td>639636</td><td>505012</td><td>428185</td><td>341254</td><td>286580</td><td>187208</td><td>162236</td><td>105534</td><td>71762</td><td>40229</td><td>22949</td><td>10511</td><td>6569</td></tr><tr><td>&quot;male&quot;</td><td>1860</td><td>2120846</td><td>1804467</td><td>1612640</td><td>1438094</td><td>1351121</td><td>1217615</td><td>1043174</td><td>866910</td><td>699434</td><td>552404</td><td>456176</td><td>292417</td><td>260887</td><td>149331</td><td>98465</td><td>56699</td><td>29007</td><td>10434</td><td>7232</td></tr><tr><td>&quot;female&quot;</td><td>1860</td><td>2092162</td><td>1778772</td><td>1540350</td><td>1495999</td><td>1370462</td><td>1116373</td><td>936055</td><td>737136</td><td>616826</td><td>461739</td><td>407305</td><td>267224</td><td>249735</td><td>141405</td><td>101778</td><td>57597</td><td>29506</td><td>14053</td><td>6622</td></tr><tr><td>&quot;male&quot;</td><td>1870</td><td>2800083</td><td>2428469</td><td>2427341</td><td>1958390</td><td>1805303</td><td>1509059</td><td>1251534</td><td>1185336</td><td>968861</td><td>852672</td><td>736387</td><td>486036</td><td>399264</td><td>260829</td><td>173364</td><td>86929</td><td>47427</td><td>15891</td><td>8649</td></tr><tr><td>&hellip;</td><td>&hellip;</td><td>&hellip;</td><td>&hellip;</td><td>&hellip;</td><td>&hellip;</td><td>&hellip;</td><td>&hellip;</td><td>&hellip;</td><td>&hellip;</td><td>&hellip;</td><td>&hellip;</td><td>&hellip;</td><td>&hellip;</td><td>&hellip;</td><td>&hellip;</td><td>&hellip;</td><td>&hellip;</td><td>&hellip;</td><td>&hellip;</td><td>&hellip;</td></tr><tr><td>&quot;female&quot;</td><td>1980</td><td>8081854</td><td>8275881</td><td>9048483</td><td>10410271</td><td>10614947</td><td>9827903</td><td>8955225</td><td>7134239</td><td>5953910</td><td>5697543</td><td>6110117</td><td>6160229</td><td>5456885</td><td>4896947</td><td>3963441</td><td>2951759</td><td>1919292</td><td>1023115</td><td>499046</td></tr><tr><td>&quot;male&quot;</td><td>1990</td><td>9307465</td><td>9274732</td><td>8782542</td><td>9020572</td><td>9436188</td><td>10658027</td><td>11028712</td><td>9853933</td><td>8712632</td><td>6848082</td><td>5553992</td><td>4981670</td><td>4953822</td><td>4538398</td><td>3429420</td><td>2344932</td><td>1342996</td><td>588790</td><td>238459</td></tr><tr><td>&quot;female&quot;</td><td>1990</td><td>8894007</td><td>8799955</td><td>8337284</td><td>8590991</td><td>9152644</td><td>10587292</td><td>11105750</td><td>10038644</td><td>8928252</td><td>7115129</td><td>5899925</td><td>5460506</td><td>5663205</td><td>5594108</td><td>4610222</td><td>3723980</td><td>2545730</td><td>1419494</td><td>745146</td></tr><tr><td>&quot;male&quot;</td><td>2000</td><td>9735380</td><td>10552146</td><td>10563233</td><td>10237419</td><td>9731315</td><td>9659493</td><td>10205879</td><td>11475182</td><td>11320252</td><td>9925006</td><td>8507934</td><td>6459082</td><td>5123399</td><td>4453623</td><td>3792145</td><td>2912655</td><td>1902638</td><td>970357</td><td>336303</td></tr><tr><td>&quot;female&quot;</td><td>2000</td><td>9310714</td><td>10069564</td><td>10022524</td><td>9692669</td><td>9324244</td><td>9518507</td><td>10119296</td><td>11635647</td><td>11488578</td><td>10261253</td><td>8911133</td><td>6921268</td><td>5668961</td><td>4804784</td><td>5184855</td><td>4355644</td><td>3221898</td><td>1981156</td><td>1064581</td></tr></tbody></table></div>"
            ]
          },
          "metadata": {},
          "execution_count": 5
        }
      ]
    },
    {
      "cell_type": "markdown",
      "source": [
        "Instead of having the different age groups be *values* in the age column, the table spreads them across *multiple rows*. This table can probably be made sense of by a human—for example, in 1850, there were 1,483,789 males in the US aged 0–4.\n",
        "\n",
        "However, it really doesn't lend itself to useful programmatic or visual analyses."
      ],
      "metadata": {
        "id": "kC4W8e9z0amY"
      }
    },
    {
      "cell_type": "markdown",
      "source": [
        "## 3.1: Reshaping Dataframes\n",
        "___\n",
        "Polars provides the `pivot` and `unpivot` functions to help with reshaping data tables. Using the linked documentation as a guide, complete the following steps.\n",
        "\n",
        " Return a table that looks identical to `population_wide`.\n",
        "\n",
        " *Hint*: You don't have to type out all the column names in an array, and you can check with `.equals` method fo dataframes"
      ],
      "metadata": {
        "id": "sbx3A9qX0h1n"
      }
    },
    {
      "cell_type": "code",
      "source": [
        "answer_3_1 = ...\n",
        "\n",
        "# Your code here\n",
        "\n",
        "answer_3_1"
      ],
      "metadata": {
        "id": "dAVrQroDye98"
      },
      "execution_count": null,
      "outputs": []
    },
    {
      "cell_type": "markdown",
      "source": [
        "## 3.2: Folding, and merging multiple datasets\n",
        "___\n",
        "Consider the following three SUPER UNTIDY tables from the [Gapminder](https://www.gapminder.org/data/) project.\n",
        "\n",
        "First, we have data about countries' per-capita CO2 emissions (in tonnes). The table is very wide...\n",
        "\n"
      ],
      "metadata": {
        "id": "guD1Jmbo1oi9"
      }
    },
    {
      "cell_type": "code",
      "source": [
        "emissions_untidy"
      ],
      "metadata": {
        "id": "8CYyppxT8Jj2",
        "outputId": "5e36b06a-8e0e-4ca3-de28-86cb9316f5de",
        "colab": {
          "base_uri": "https://localhost:8080/",
          "height": 481
        }
      },
      "execution_count": 6,
      "outputs": [
        {
          "output_type": "execute_result",
          "data": {
            "text/plain": [
              "shape: (194, 224)\n",
              "┌──────────────┬───────┬───────┬───────┬───┬───────┬───────┬───────┬───────┐\n",
              "│ country      ┆ 1800  ┆ 1801  ┆ 1802  ┆ … ┆ 2019  ┆ 2020  ┆ 2021  ┆ 2022  │\n",
              "│ ---          ┆ ---   ┆ ---   ┆ ---   ┆   ┆ ---   ┆ ---   ┆ ---   ┆ ---   │\n",
              "│ str          ┆ str   ┆ str   ┆ str   ┆   ┆ str   ┆ str   ┆ str   ┆ str   │\n",
              "╞══════════════╪═══════╪═══════╪═══════╪═══╪═══════╪═══════╪═══════╪═══════╡\n",
              "│ Afghanistan  ┆ 0.001 ┆ 0.001 ┆ 0.001 ┆ … ┆ 0.261 ┆ 0.261 ┆ 0.279 ┆ 0.284 │\n",
              "│ Angola       ┆ 0.009 ┆ 0.009 ┆ 0.009 ┆ … ┆ 1.15  ┆ 1.12  ┆ 1.2   ┆ 1.23  │\n",
              "│ Albania      ┆ 0.001 ┆ 0.001 ┆ 0.001 ┆ … ┆ 2.05  ┆ 2     ┆ 2.12  ┆ 2.1   │\n",
              "│ Andorra      ┆ 0.333 ┆ 0.335 ┆ 0.337 ┆ … ┆ 6.06  ┆ 5.63  ┆ 5.97  ┆ 5.91  │\n",
              "│ UAE          ┆ 0.063 ┆ 0.063 ┆ 0.064 ┆ … ┆ 21.2  ┆ 19.7  ┆ 20.7  ┆ 21.1  │\n",
              "│ …            ┆ …     ┆ …     ┆ …     ┆ … ┆ …     ┆ …     ┆ …     ┆ …     │\n",
              "│ Samoa        ┆ 0.002 ┆ 0.002 ┆ 0.002 ┆ … ┆ 1.37  ┆ 1.31  ┆ 1.4   ┆ 1.43  │\n",
              "│ Yemen        ┆ 0.002 ┆ 0.002 ┆ 0.002 ┆ … ┆ 0.365 ┆ 0.362 ┆ 0.387 ┆ 0.395 │\n",
              "│ South Africa ┆ 0.003 ┆ 0.003 ┆ 0.004 ┆ … ┆ 5.68  ┆ 5.11  ┆ 5.08  ┆ 5.18  │\n",
              "│ Zambia       ┆ 0.255 ┆ 0.256 ┆ 0.257 ┆ … ┆ 0.487 ┆ 0.388 ┆ 0.416 ┆ 0.424 │\n",
              "│ Zimbabwe     ┆ 0.059 ┆ 0.06  ┆ 0.06  ┆ … ┆ 0.783 ┆ 0.737 ┆ 0.789 ┆ 0.804 │\n",
              "└──────────────┴───────┴───────┴───────┴───┴───────┴───────┴───────┴───────┘"
            ],
            "text/html": [
              "<div><style>\n",
              ".dataframe > thead > tr,\n",
              ".dataframe > tbody > tr {\n",
              "  text-align: right;\n",
              "  white-space: pre-wrap;\n",
              "}\n",
              "</style>\n",
              "<small>shape: (194, 224)</small><table border=\"1\" class=\"dataframe\"><thead><tr><th>country</th><th>1800</th><th>1801</th><th>1802</th><th>1803</th><th>1804</th><th>1805</th><th>1806</th><th>1807</th><th>1808</th><th>1809</th><th>1810</th><th>1811</th><th>1812</th><th>1813</th><th>1814</th><th>1815</th><th>1816</th><th>1817</th><th>1818</th><th>1819</th><th>1820</th><th>1821</th><th>1822</th><th>1823</th><th>1824</th><th>1825</th><th>1826</th><th>1827</th><th>1828</th><th>1829</th><th>1830</th><th>1831</th><th>1832</th><th>1833</th><th>1834</th><th>1835</th><th>&hellip;</th><th>1986</th><th>1987</th><th>1988</th><th>1989</th><th>1990</th><th>1991</th><th>1992</th><th>1993</th><th>1994</th><th>1995</th><th>1996</th><th>1997</th><th>1998</th><th>1999</th><th>2000</th><th>2001</th><th>2002</th><th>2003</th><th>2004</th><th>2005</th><th>2006</th><th>2007</th><th>2008</th><th>2009</th><th>2010</th><th>2011</th><th>2012</th><th>2013</th><th>2014</th><th>2015</th><th>2016</th><th>2017</th><th>2018</th><th>2019</th><th>2020</th><th>2021</th><th>2022</th></tr><tr><td>str</td><td>str</td><td>str</td><td>str</td><td>str</td><td>str</td><td>str</td><td>str</td><td>str</td><td>str</td><td>str</td><td>str</td><td>str</td><td>str</td><td>str</td><td>str</td><td>str</td><td>str</td><td>str</td><td>str</td><td>str</td><td>str</td><td>str</td><td>str</td><td>str</td><td>str</td><td>str</td><td>str</td><td>str</td><td>str</td><td>str</td><td>str</td><td>str</td><td>str</td><td>str</td><td>str</td><td>str</td><td>&hellip;</td><td>str</td><td>str</td><td>str</td><td>str</td><td>str</td><td>str</td><td>str</td><td>str</td><td>str</td><td>str</td><td>str</td><td>str</td><td>str</td><td>str</td><td>str</td><td>str</td><td>str</td><td>str</td><td>str</td><td>str</td><td>str</td><td>str</td><td>str</td><td>str</td><td>str</td><td>str</td><td>str</td><td>str</td><td>str</td><td>str</td><td>str</td><td>str</td><td>str</td><td>str</td><td>str</td><td>str</td><td>str</td></tr></thead><tbody><tr><td>&quot;Afghanistan&quot;</td><td>&quot;0.001&quot;</td><td>&quot;0.001&quot;</td><td>&quot;0.001&quot;</td><td>&quot;0.001&quot;</td><td>&quot;0.001&quot;</td><td>&quot;0.001&quot;</td><td>&quot;0.001&quot;</td><td>&quot;0.001&quot;</td><td>&quot;0.001&quot;</td><td>&quot;0.001&quot;</td><td>&quot;0.001&quot;</td><td>&quot;0.001&quot;</td><td>&quot;0.001&quot;</td><td>&quot;0.001&quot;</td><td>&quot;0.001&quot;</td><td>&quot;0.001&quot;</td><td>&quot;0.001&quot;</td><td>&quot;0.001&quot;</td><td>&quot;0.001&quot;</td><td>&quot;0.001&quot;</td><td>&quot;0.001&quot;</td><td>&quot;0.001&quot;</td><td>&quot;0.001&quot;</td><td>&quot;0.001&quot;</td><td>&quot;0.001&quot;</td><td>&quot;0.001&quot;</td><td>&quot;0.001&quot;</td><td>&quot;0.001&quot;</td><td>&quot;0.001&quot;</td><td>&quot;0.001&quot;</td><td>&quot;0.001&quot;</td><td>&quot;0.001&quot;</td><td>&quot;0.001&quot;</td><td>&quot;0.001&quot;</td><td>&quot;0.001&quot;</td><td>&quot;0.001&quot;</td><td>&hellip;</td><td>&quot;0.267&quot;</td><td>&quot;0.269&quot;</td><td>&quot;0.246&quot;</td><td>&quot;0.233&quot;</td><td>&quot;0.21&quot;</td><td>&quot;0.183&quot;</td><td>&quot;0.095&quot;</td><td>&quot;0.084&quot;</td><td>&quot;0.075&quot;</td><td>&quot;0.068&quot;</td><td>&quot;0.062&quot;</td><td>&quot;0.056&quot;</td><td>&quot;0.052&quot;</td><td>&quot;0.04&quot;</td><td>&quot;0.037&quot;</td><td>&quot;0.038&quot;</td><td>&quot;0.047&quot;</td><td>&quot;0.051&quot;</td><td>&quot;0.037&quot;</td><td>&quot;0.052&quot;</td><td>&quot;0.062&quot;</td><td>&quot;0.084&quot;</td><td>&quot;0.152&quot;</td><td>&quot;0.238&quot;</td><td>&quot;0.29&quot;</td><td>&quot;0.406&quot;</td><td>&quot;0.345&quot;</td><td>&quot;0.28&quot;</td><td>&quot;0.253&quot;</td><td>&quot;0.262&quot;</td><td>&quot;0.245&quot;</td><td>&quot;0.247&quot;</td><td>&quot;0.254&quot;</td><td>&quot;0.261&quot;</td><td>&quot;0.261&quot;</td><td>&quot;0.279&quot;</td><td>&quot;0.284&quot;</td></tr><tr><td>&quot;Angola&quot;</td><td>&quot;0.009&quot;</td><td>&quot;0.009&quot;</td><td>&quot;0.009&quot;</td><td>&quot;0.009&quot;</td><td>&quot;0.009&quot;</td><td>&quot;0.009&quot;</td><td>&quot;0.01&quot;</td><td>&quot;0.01&quot;</td><td>&quot;0.01&quot;</td><td>&quot;0.01&quot;</td><td>&quot;0.01&quot;</td><td>&quot;0.01&quot;</td><td>&quot;0.01&quot;</td><td>&quot;0.01&quot;</td><td>&quot;0.01&quot;</td><td>&quot;0.01&quot;</td><td>&quot;0.01&quot;</td><td>&quot;0.01&quot;</td><td>&quot;0.01&quot;</td><td>&quot;0.01&quot;</td><td>&quot;0.01&quot;</td><td>&quot;0.01&quot;</td><td>&quot;0.01&quot;</td><td>&quot;0.01&quot;</td><td>&quot;0.01&quot;</td><td>&quot;0.01&quot;</td><td>&quot;0.01&quot;</td><td>&quot;0.01&quot;</td><td>&quot;0.01&quot;</td><td>&quot;0.01&quot;</td><td>&quot;0.01&quot;</td><td>&quot;0.011&quot;</td><td>&quot;0.011&quot;</td><td>&quot;0.011&quot;</td><td>&quot;0.011&quot;</td><td>&quot;0.011&quot;</td><td>&hellip;</td><td>&quot;0.449&quot;</td><td>&quot;0.542&quot;</td><td>&quot;0.457&quot;</td><td>&quot;0.43&quot;</td><td>&quot;0.43&quot;</td><td>&quot;0.414&quot;</td><td>&quot;0.408&quot;</td><td>&quot;0.44&quot;</td><td>&quot;0.287&quot;</td><td>&quot;0.786&quot;</td><td>&quot;0.725&quot;</td><td>&quot;0.494&quot;</td><td>&quot;0.474&quot;</td><td>&quot;0.576&quot;</td><td>&quot;0.581&quot;</td><td>&quot;0.571&quot;</td><td>&quot;0.72&quot;</td><td>&quot;0.496&quot;</td><td>&quot;0.998&quot;</td><td>&quot;0.979&quot;</td><td>&quot;1.1&quot;</td><td>&quot;1.2&quot;</td><td>&quot;1.18&quot;</td><td>&quot;1.23&quot;</td><td>&quot;1.24&quot;</td><td>&quot;1.25&quot;</td><td>&quot;1.35&quot;</td><td>&quot;1.28&quot;</td><td>&quot;1.64&quot;</td><td>&quot;1.22&quot;</td><td>&quot;1.18&quot;</td><td>&quot;1.15&quot;</td><td>&quot;1.12&quot;</td><td>&quot;1.15&quot;</td><td>&quot;1.12&quot;</td><td>&quot;1.2&quot;</td><td>&quot;1.23&quot;</td></tr><tr><td>&quot;Albania&quot;</td><td>&quot;0.001&quot;</td><td>&quot;0.001&quot;</td><td>&quot;0.001&quot;</td><td>&quot;0.001&quot;</td><td>&quot;0.001&quot;</td><td>&quot;0.001&quot;</td><td>&quot;0.001&quot;</td><td>&quot;0.001&quot;</td><td>&quot;0.001&quot;</td><td>&quot;0.001&quot;</td><td>&quot;0.001&quot;</td><td>&quot;0.001&quot;</td><td>&quot;0.001&quot;</td><td>&quot;0.001&quot;</td><td>&quot;0.001&quot;</td><td>&quot;0.001&quot;</td><td>&quot;0.001&quot;</td><td>&quot;0.001&quot;</td><td>&quot;0.001&quot;</td><td>&quot;0.002&quot;</td><td>&quot;0.002&quot;</td><td>&quot;0.002&quot;</td><td>&quot;0.002&quot;</td><td>&quot;0.002&quot;</td><td>&quot;0.002&quot;</td><td>&quot;0.002&quot;</td><td>&quot;0.002&quot;</td><td>&quot;0.002&quot;</td><td>&quot;0.002&quot;</td><td>&quot;0.002&quot;</td><td>&quot;0.002&quot;</td><td>&quot;0.002&quot;</td><td>&quot;0.002&quot;</td><td>&quot;0.002&quot;</td><td>&quot;0.002&quot;</td><td>&quot;0.002&quot;</td><td>&hellip;</td><td>&quot;1.61&quot;</td><td>&quot;1.61&quot;</td><td>&quot;1.45&quot;</td><td>&quot;1.39&quot;</td><td>&quot;1.68&quot;</td><td>&quot;1.39&quot;</td><td>&quot;0.877&quot;</td><td>&quot;0.805&quot;</td><td>&quot;0.716&quot;</td><td>&quot;0.77&quot;</td><td>&quot;0.919&quot;</td><td>&quot;0.68&quot;</td><td>&quot;0.78&quot;</td><td>&quot;1.17&quot;</td><td>&quot;1.28&quot;</td><td>&quot;1.42&quot;</td><td>&quot;1.62&quot;</td><td>&quot;1.9&quot;</td><td>&quot;1.79&quot;</td><td>&quot;1.91&quot;</td><td>&quot;1.9&quot;</td><td>&quot;2&quot;</td><td>&quot;2.21&quot;</td><td>&quot;2.35&quot;</td><td>&quot;2.26&quot;</td><td>&quot;2.45&quot;</td><td>&quot;2.37&quot;</td><td>&quot;2.27&quot;</td><td>&quot;2.25&quot;</td><td>&quot;2.04&quot;</td><td>&quot;2.01&quot;</td><td>&quot;2.13&quot;</td><td>&quot;2.08&quot;</td><td>&quot;2.05&quot;</td><td>&quot;2&quot;</td><td>&quot;2.12&quot;</td><td>&quot;2.1&quot;</td></tr><tr><td>&quot;Andorra&quot;</td><td>&quot;0.333&quot;</td><td>&quot;0.335&quot;</td><td>&quot;0.337&quot;</td><td>&quot;0.34&quot;</td><td>&quot;0.342&quot;</td><td>&quot;0.345&quot;</td><td>&quot;0.347&quot;</td><td>&quot;0.35&quot;</td><td>&quot;0.352&quot;</td><td>&quot;0.355&quot;</td><td>&quot;0.357&quot;</td><td>&quot;0.36&quot;</td><td>&quot;0.363&quot;</td><td>&quot;0.365&quot;</td><td>&quot;0.368&quot;</td><td>&quot;0.371&quot;</td><td>&quot;0.373&quot;</td><td>&quot;0.376&quot;</td><td>&quot;0.379&quot;</td><td>&quot;0.381&quot;</td><td>&quot;0.384&quot;</td><td>&quot;0.387&quot;</td><td>&quot;0.39&quot;</td><td>&quot;0.392&quot;</td><td>&quot;0.398&quot;</td><td>&quot;0.406&quot;</td><td>&quot;0.407&quot;</td><td>&quot;0.413&quot;</td><td>&quot;0.419&quot;</td><td>&quot;0.424&quot;</td><td>&quot;0.427&quot;</td><td>&quot;0.432&quot;</td><td>&quot;0.438&quot;</td><td>&quot;0.445&quot;</td><td>&quot;0.451&quot;</td><td>&quot;0.458&quot;</td><td>&hellip;</td><td>&quot;7.14&quot;</td><td>&quot;7.33&quot;</td><td>&quot;7.35&quot;</td><td>&quot;7.44&quot;</td><td>&quot;7.47&quot;</td><td>&quot;7.18&quot;</td><td>&quot;6.91&quot;</td><td>&quot;6.74&quot;</td><td>&quot;6.49&quot;</td><td>&quot;6.66&quot;</td><td>&quot;7.07&quot;</td><td>&quot;7.24&quot;</td><td>&quot;7.66&quot;</td><td>&quot;7.98&quot;</td><td>&quot;8.02&quot;</td><td>&quot;7.79&quot;</td><td>&quot;7.59&quot;</td><td>&quot;7.32&quot;</td><td>&quot;7.36&quot;</td><td>&quot;7.3&quot;</td><td>&quot;6.75&quot;</td><td>&quot;6.52&quot;</td><td>&quot;6.43&quot;</td><td>&quot;6.12&quot;</td><td>&quot;6.12&quot;</td><td>&quot;5.87&quot;</td><td>&quot;5.92&quot;</td><td>&quot;5.9&quot;</td><td>&quot;5.83&quot;</td><td>&quot;5.97&quot;</td><td>&quot;6.07&quot;</td><td>&quot;6.27&quot;</td><td>&quot;6.12&quot;</td><td>&quot;6.06&quot;</td><td>&quot;5.63&quot;</td><td>&quot;5.97&quot;</td><td>&quot;5.91&quot;</td></tr><tr><td>&quot;UAE&quot;</td><td>&quot;0.063&quot;</td><td>&quot;0.063&quot;</td><td>&quot;0.064&quot;</td><td>&quot;0.064&quot;</td><td>&quot;0.064&quot;</td><td>&quot;0.064&quot;</td><td>&quot;0.065&quot;</td><td>&quot;0.065&quot;</td><td>&quot;0.065&quot;</td><td>&quot;0.065&quot;</td><td>&quot;0.066&quot;</td><td>&quot;0.066&quot;</td><td>&quot;0.066&quot;</td><td>&quot;0.066&quot;</td><td>&quot;0.067&quot;</td><td>&quot;0.067&quot;</td><td>&quot;0.067&quot;</td><td>&quot;0.067&quot;</td><td>&quot;0.068&quot;</td><td>&quot;0.068&quot;</td><td>&quot;0.068&quot;</td><td>&quot;0.068&quot;</td><td>&quot;0.069&quot;</td><td>&quot;0.069&quot;</td><td>&quot;0.069&quot;</td><td>&quot;0.069&quot;</td><td>&quot;0.07&quot;</td><td>&quot;0.07&quot;</td><td>&quot;0.07&quot;</td><td>&quot;0.07&quot;</td><td>&quot;0.071&quot;</td><td>&quot;0.071&quot;</td><td>&quot;0.071&quot;</td><td>&quot;0.072&quot;</td><td>&quot;0.072&quot;</td><td>&quot;0.072&quot;</td><td>&hellip;</td><td>&quot;21.9&quot;</td><td>&quot;25.1&quot;</td><td>&quot;26.5&quot;</td><td>&quot;27.6&quot;</td><td>&quot;29.3&quot;</td><td>&quot;30.4&quot;</td><td>&quot;30&quot;</td><td>&quot;31.1&quot;</td><td>&quot;33.2&quot;</td><td>&quot;31.6&quot;</td><td>&quot;30.7&quot;</td><td>&quot;29.2&quot;</td><td>&quot;31.7&quot;</td><td>&quot;25.6&quot;</td><td>&quot;28.3&quot;</td><td>&quot;27.9&quot;</td><td>&quot;26.2&quot;</td><td>&quot;32.3&quot;</td><td>&quot;32.8&quot;</td><td>&quot;33.4&quot;</td><td>&quot;34.7&quot;</td><td>&quot;32&quot;</td><td>&quot;31.2&quot;</td><td>&quot;25&quot;</td><td>&quot;23.9&quot;</td><td>&quot;25.4&quot;</td><td>&quot;26.2&quot;</td><td>&quot;27&quot;</td><td>&quot;26.8&quot;</td><td>&quot;27&quot;</td><td>&quot;26.7&quot;</td><td>&quot;23.9&quot;</td><td>&quot;23.5&quot;</td><td>&quot;21.2&quot;</td><td>&quot;19.7&quot;</td><td>&quot;20.7&quot;</td><td>&quot;21.1&quot;</td></tr><tr><td>&hellip;</td><td>&hellip;</td><td>&hellip;</td><td>&hellip;</td><td>&hellip;</td><td>&hellip;</td><td>&hellip;</td><td>&hellip;</td><td>&hellip;</td><td>&hellip;</td><td>&hellip;</td><td>&hellip;</td><td>&hellip;</td><td>&hellip;</td><td>&hellip;</td><td>&hellip;</td><td>&hellip;</td><td>&hellip;</td><td>&hellip;</td><td>&hellip;</td><td>&hellip;</td><td>&hellip;</td><td>&hellip;</td><td>&hellip;</td><td>&hellip;</td><td>&hellip;</td><td>&hellip;</td><td>&hellip;</td><td>&hellip;</td><td>&hellip;</td><td>&hellip;</td><td>&hellip;</td><td>&hellip;</td><td>&hellip;</td><td>&hellip;</td><td>&hellip;</td><td>&hellip;</td><td>&hellip;</td><td>&hellip;</td><td>&hellip;</td><td>&hellip;</td><td>&hellip;</td><td>&hellip;</td><td>&hellip;</td><td>&hellip;</td><td>&hellip;</td><td>&hellip;</td><td>&hellip;</td><td>&hellip;</td><td>&hellip;</td><td>&hellip;</td><td>&hellip;</td><td>&hellip;</td><td>&hellip;</td><td>&hellip;</td><td>&hellip;</td><td>&hellip;</td><td>&hellip;</td><td>&hellip;</td><td>&hellip;</td><td>&hellip;</td><td>&hellip;</td><td>&hellip;</td><td>&hellip;</td><td>&hellip;</td><td>&hellip;</td><td>&hellip;</td><td>&hellip;</td><td>&hellip;</td><td>&hellip;</td><td>&hellip;</td><td>&hellip;</td><td>&hellip;</td><td>&hellip;</td><td>&hellip;</td></tr><tr><td>&quot;Samoa&quot;</td><td>&quot;0.002&quot;</td><td>&quot;0.002&quot;</td><td>&quot;0.002&quot;</td><td>&quot;0.002&quot;</td><td>&quot;0.002&quot;</td><td>&quot;0.002&quot;</td><td>&quot;0.002&quot;</td><td>&quot;0.002&quot;</td><td>&quot;0.002&quot;</td><td>&quot;0.002&quot;</td><td>&quot;0.002&quot;</td><td>&quot;0.002&quot;</td><td>&quot;0.002&quot;</td><td>&quot;0.002&quot;</td><td>&quot;0.002&quot;</td><td>&quot;0.002&quot;</td><td>&quot;0.002&quot;</td><td>&quot;0.002&quot;</td><td>&quot;0.002&quot;</td><td>&quot;0.002&quot;</td><td>&quot;0.002&quot;</td><td>&quot;0.002&quot;</td><td>&quot;0.002&quot;</td><td>&quot;0.002&quot;</td><td>&quot;0.002&quot;</td><td>&quot;0.002&quot;</td><td>&quot;0.002&quot;</td><td>&quot;0.002&quot;</td><td>&quot;0.002&quot;</td><td>&quot;0.002&quot;</td><td>&quot;0.002&quot;</td><td>&quot;0.002&quot;</td><td>&quot;0.002&quot;</td><td>&quot;0.002&quot;</td><td>&quot;0.002&quot;</td><td>&quot;0.002&quot;</td><td>&hellip;</td><td>&quot;0.708&quot;</td><td>&quot;0.706&quot;</td><td>&quot;0.704&quot;</td><td>&quot;0.747&quot;</td><td>&quot;0.631&quot;</td><td>&quot;0.648&quot;</td><td>&quot;0.665&quot;</td><td>&quot;0.658&quot;</td><td>&quot;0.674&quot;</td><td>&quot;0.69&quot;</td><td>&quot;0.728&quot;</td><td>&quot;0.746&quot;</td><td>&quot;0.764&quot;</td><td>&quot;0.782&quot;</td><td>&quot;0.82&quot;</td><td>&quot;0.836&quot;</td><td>&quot;0.831&quot;</td><td>&quot;0.868&quot;</td><td>&quot;0.842&quot;</td><td>&quot;0.898&quot;</td><td>&quot;0.912&quot;</td><td>&quot;0.947&quot;</td><td>&quot;0.98&quot;</td><td>&quot;1.01&quot;</td><td>&quot;1.01&quot;</td><td>&quot;1.08&quot;</td><td>&quot;1.05&quot;</td><td>&quot;1.04&quot;</td><td>&quot;1.09&quot;</td><td>&quot;1.21&quot;</td><td>&quot;1.26&quot;</td><td>&quot;1.29&quot;</td><td>&quot;1.32&quot;</td><td>&quot;1.37&quot;</td><td>&quot;1.31&quot;</td><td>&quot;1.4&quot;</td><td>&quot;1.43&quot;</td></tr><tr><td>&quot;Yemen&quot;</td><td>&quot;0.002&quot;</td><td>&quot;0.002&quot;</td><td>&quot;0.002&quot;</td><td>&quot;0.002&quot;</td><td>&quot;0.002&quot;</td><td>&quot;0.002&quot;</td><td>&quot;0.002&quot;</td><td>&quot;0.002&quot;</td><td>&quot;0.002&quot;</td><td>&quot;0.002&quot;</td><td>&quot;0.002&quot;</td><td>&quot;0.002&quot;</td><td>&quot;0.002&quot;</td><td>&quot;0.002&quot;</td><td>&quot;0.002&quot;</td><td>&quot;0.002&quot;</td><td>&quot;0.002&quot;</td><td>&quot;0.002&quot;</td><td>&quot;0.002&quot;</td><td>&quot;0.002&quot;</td><td>&quot;0.002&quot;</td><td>&quot;0.002&quot;</td><td>&quot;0.002&quot;</td><td>&quot;0.002&quot;</td><td>&quot;0.002&quot;</td><td>&quot;0.002&quot;</td><td>&quot;0.002&quot;</td><td>&quot;0.002&quot;</td><td>&quot;0.002&quot;</td><td>&quot;0.003&quot;</td><td>&quot;0.003&quot;</td><td>&quot;0.003&quot;</td><td>&quot;0.003&quot;</td><td>&quot;0.003&quot;</td><td>&quot;0.003&quot;</td><td>&quot;0.003&quot;</td><td>&hellip;</td><td>&quot;0.825&quot;</td><td>&quot;0.836&quot;</td><td>&quot;0.891&quot;</td><td>&quot;0.889&quot;</td><td>&quot;0.814&quot;</td><td>&quot;0.743&quot;</td><td>&quot;0.763&quot;</td><td>&quot;0.633&quot;</td><td>&quot;0.629&quot;</td><td>&quot;0.695&quot;</td><td>&quot;0.681&quot;</td><td>&quot;0.709&quot;</td><td>&quot;0.734&quot;</td><td>&quot;0.812&quot;</td><td>&quot;0.832&quot;</td><td>&quot;0.895&quot;</td><td>&quot;0.844&quot;</td><td>&quot;0.901&quot;</td><td>&quot;0.955&quot;</td><td>&quot;0.985&quot;</td><td>&quot;1.02&quot;</td><td>&quot;0.974&quot;</td><td>&quot;1.01&quot;</td><td>&quot;1.08&quot;</td><td>&quot;1&quot;</td><td>&quot;0.849&quot;</td><td>&quot;0.747&quot;</td><td>&quot;0.994&quot;</td><td>&quot;0.937&quot;</td><td>&quot;0.48&quot;</td><td>&quot;0.377&quot;</td><td>&quot;0.363&quot;</td><td>&quot;0.356&quot;</td><td>&quot;0.365&quot;</td><td>&quot;0.362&quot;</td><td>&quot;0.387&quot;</td><td>&quot;0.395&quot;</td></tr><tr><td>&quot;South Africa&quot;</td><td>&quot;0.003&quot;</td><td>&quot;0.003&quot;</td><td>&quot;0.004&quot;</td><td>&quot;0.004&quot;</td><td>&quot;0.004&quot;</td><td>&quot;0.004&quot;</td><td>&quot;0.004&quot;</td><td>&quot;0.004&quot;</td><td>&quot;0.004&quot;</td><td>&quot;0.004&quot;</td><td>&quot;0.004&quot;</td><td>&quot;0.004&quot;</td><td>&quot;0.004&quot;</td><td>&quot;0.004&quot;</td><td>&quot;0.004&quot;</td><td>&quot;0.004&quot;</td><td>&quot;0.004&quot;</td><td>&quot;0.004&quot;</td><td>&quot;0.004&quot;</td><td>&quot;0.004&quot;</td><td>&quot;0.004&quot;</td><td>&quot;0.004&quot;</td><td>&quot;0.004&quot;</td><td>&quot;0.004&quot;</td><td>&quot;0.004&quot;</td><td>&quot;0.004&quot;</td><td>&quot;0.004&quot;</td><td>&quot;0.004&quot;</td><td>&quot;0.004&quot;</td><td>&quot;0.004&quot;</td><td>&quot;0.004&quot;</td><td>&quot;0.004&quot;</td><td>&quot;0.004&quot;</td><td>&quot;0.004&quot;</td><td>&quot;0.004&quot;</td><td>&quot;0.004&quot;</td><td>&hellip;</td><td>&quot;5.71&quot;</td><td>&quot;5.69&quot;</td><td>&quot;5.52&quot;</td><td>&quot;5.63&quot;</td><td>&quot;5.46&quot;</td><td>&quot;5.79&quot;</td><td>&quot;5.31&quot;</td><td>&quot;5.39&quot;</td><td>&quot;5.69&quot;</td><td>&quot;5.88&quot;</td><td>&quot;5.63&quot;</td><td>&quot;5.86&quot;</td><td>&quot;5.58&quot;</td><td>&quot;6.06&quot;</td><td>&quot;5.84&quot;</td><td>&quot;5.49&quot;</td><td>&quot;5.06&quot;</td><td>&quot;5.51&quot;</td><td>&quot;6.34&quot;</td><td>&quot;5.84&quot;</td><td>&quot;6.45&quot;</td><td>&quot;6.5&quot;</td><td>&quot;6.38&quot;</td><td>&quot;6.47&quot;</td><td>&quot;6.2&quot;</td><td>&quot;6.07&quot;</td><td>&quot;6.39&quot;</td><td>&quot;6.2&quot;</td><td>&quot;6.1&quot;</td><td>&quot;5.76&quot;</td><td>&quot;5.68&quot;</td><td>&quot;5.55&quot;</td><td>&quot;5.42&quot;</td><td>&quot;5.68&quot;</td><td>&quot;5.11&quot;</td><td>&quot;5.08&quot;</td><td>&quot;5.18&quot;</td></tr><tr><td>&quot;Zambia&quot;</td><td>&quot;0.255&quot;</td><td>&quot;0.256&quot;</td><td>&quot;0.257&quot;</td><td>&quot;0.258&quot;</td><td>&quot;0.259&quot;</td><td>&quot;0.26&quot;</td><td>&quot;0.261&quot;</td><td>&quot;0.262&quot;</td><td>&quot;0.263&quot;</td><td>&quot;0.264&quot;</td><td>&quot;0.265&quot;</td><td>&quot;0.266&quot;</td><td>&quot;0.267&quot;</td><td>&quot;0.269&quot;</td><td>&quot;0.27&quot;</td><td>&quot;0.271&quot;</td><td>&quot;0.272&quot;</td><td>&quot;0.273&quot;</td><td>&quot;0.274&quot;</td><td>&quot;0.275&quot;</td><td>&quot;0.276&quot;</td><td>&quot;0.277&quot;</td><td>&quot;0.278&quot;</td><td>&quot;0.279&quot;</td><td>&quot;0.28&quot;</td><td>&quot;0.281&quot;</td><td>&quot;0.283&quot;</td><td>&quot;0.284&quot;</td><td>&quot;0.285&quot;</td><td>&quot;0.286&quot;</td><td>&quot;0.287&quot;</td><td>&quot;0.288&quot;</td><td>&quot;0.289&quot;</td><td>&quot;0.291&quot;</td><td>&quot;0.292&quot;</td><td>&quot;0.293&quot;</td><td>&hellip;</td><td>&quot;0.425&quot;</td><td>&quot;0.432&quot;</td><td>&quot;0.391&quot;</td><td>&quot;0.441&quot;</td><td>&quot;0.354&quot;</td><td>&quot;0.374&quot;</td><td>&quot;0.375&quot;</td><td>&quot;0.391&quot;</td><td>&quot;0.387&quot;</td><td>&quot;0.375&quot;</td><td>&quot;0.362&quot;</td><td>&quot;0.456&quot;</td><td>&quot;0.42&quot;</td><td>&quot;0.344&quot;</td><td>&quot;0.392&quot;</td><td>&quot;0.407&quot;</td><td>&quot;0.398&quot;</td><td>&quot;0.372&quot;</td><td>&quot;0.383&quot;</td><td>&quot;0.36&quot;</td><td>&quot;0.399&quot;</td><td>&quot;0.476&quot;</td><td>&quot;0.529&quot;</td><td>&quot;0.421&quot;</td><td>&quot;0.392&quot;</td><td>&quot;0.493&quot;</td><td>&quot;0.503&quot;</td><td>&quot;0.511&quot;</td><td>&quot;0.56&quot;</td><td>&quot;0.519&quot;</td><td>&quot;0.471&quot;</td><td>&quot;0.474&quot;</td><td>&quot;0.467&quot;</td><td>&quot;0.487&quot;</td><td>&quot;0.388&quot;</td><td>&quot;0.416&quot;</td><td>&quot;0.424&quot;</td></tr><tr><td>&quot;Zimbabwe&quot;</td><td>&quot;0.059&quot;</td><td>&quot;0.06&quot;</td><td>&quot;0.06&quot;</td><td>&quot;0.06&quot;</td><td>&quot;0.06&quot;</td><td>&quot;0.061&quot;</td><td>&quot;0.061&quot;</td><td>&quot;0.061&quot;</td><td>&quot;0.061&quot;</td><td>&quot;0.062&quot;</td><td>&quot;0.062&quot;</td><td>&quot;0.062&quot;</td><td>&quot;0.062&quot;</td><td>&quot;0.063&quot;</td><td>&quot;0.063&quot;</td><td>&quot;0.063&quot;</td><td>&quot;0.063&quot;</td><td>&quot;0.064&quot;</td><td>&quot;0.064&quot;</td><td>&quot;0.064&quot;</td><td>&quot;0.064&quot;</td><td>&quot;0.065&quot;</td><td>&quot;0.065&quot;</td><td>&quot;0.065&quot;</td><td>&quot;0.065&quot;</td><td>&quot;0.066&quot;</td><td>&quot;0.066&quot;</td><td>&quot;0.066&quot;</td><td>&quot;0.066&quot;</td><td>&quot;0.067&quot;</td><td>&quot;0.067&quot;</td><td>&quot;0.067&quot;</td><td>&quot;0.067&quot;</td><td>&quot;0.068&quot;</td><td>&quot;0.068&quot;</td><td>&quot;0.068&quot;</td><td>&hellip;</td><td>&quot;1.28&quot;</td><td>&quot;1.58&quot;</td><td>&quot;1.78&quot;</td><td>&quot;1.81&quot;</td><td>&quot;1.77&quot;</td><td>&quot;1.69&quot;</td><td>&quot;1.67&quot;</td><td>&quot;1.58&quot;</td><td>&quot;1.63&quot;</td><td>&quot;1.49&quot;</td><td>&quot;1.52&quot;</td><td>&quot;1.34&quot;</td><td>&quot;1.2&quot;</td><td>&quot;1.22&quot;</td><td>&quot;1.03&quot;</td><td>&quot;0.976&quot;</td><td>&quot;1.03&quot;</td><td>&quot;0.967&quot;</td><td>&quot;0.817&quot;</td><td>&quot;0.907&quot;</td><td>&quot;0.929&quot;</td><td>&quot;0.903&quot;</td><td>&quot;0.851&quot;</td><td>&quot;0.778&quot;</td><td>&quot;0.733&quot;</td><td>&quot;0.817&quot;</td><td>&quot;0.906&quot;</td><td>&quot;0.906&quot;</td><td>&quot;0.929&quot;</td><td>&quot;0.955&quot;</td><td>&quot;0.821&quot;</td><td>&quot;0.708&quot;</td><td>&quot;0.83&quot;</td><td>&quot;0.783&quot;</td><td>&quot;0.737&quot;</td><td>&quot;0.789&quot;</td><td>&quot;0.804&quot;</td></tr></tbody></table></div>"
            ]
          },
          "metadata": {},
          "execution_count": 6
        }
      ]
    },
    {
      "cell_type": "markdown",
      "source": [
        "Next, we have data about countries' populations and projected populations from 1800–2100. (Not to be confused with the US population dataset we played with in Part 3.1.)"
      ],
      "metadata": {
        "id": "HdngOgIN8KCh"
      }
    },
    {
      "cell_type": "code",
      "source": [
        "pop_untidy"
      ],
      "metadata": {
        "id": "MbEq9OZW8P1O",
        "outputId": "e80cd7fc-b3af-4f4d-d83f-f8f3073c5272",
        "colab": {
          "base_uri": "https://localhost:8080/",
          "height": 481
        }
      },
      "execution_count": 7,
      "outputs": [
        {
          "output_type": "execute_result",
          "data": {
            "text/plain": [
              "shape: (197, 302)\n",
              "┌──────────────┬───────┬───────┬───────┬───┬───────┬───────┬───────┬───────┐\n",
              "│ country      ┆ 1800  ┆ 1801  ┆ 1802  ┆ … ┆ 2097  ┆ 2098  ┆ 2099  ┆ 2100  │\n",
              "│ ---          ┆ ---   ┆ ---   ┆ ---   ┆   ┆ ---   ┆ ---   ┆ ---   ┆ ---   │\n",
              "│ str          ┆ str   ┆ str   ┆ str   ┆   ┆ str   ┆ str   ┆ str   ┆ str   │\n",
              "╞══════════════╪═══════╪═══════╪═══════╪═══╪═══════╪═══════╪═══════╪═══════╡\n",
              "│ Afghanistan  ┆ 3.28M ┆ 3.28M ┆ 3.28M ┆ … ┆ 128M  ┆ 129M  ┆ 130M  ┆ 130M  │\n",
              "│ Angola       ┆ 1.57M ┆ 1.57M ┆ 1.57M ┆ … ┆ 147M  ┆ 148M  ┆ 149M  ┆ 150M  │\n",
              "│ Albania      ┆ 400k  ┆ 402k  ┆ 404k  ┆ … ┆ 1.23M ┆ 1.22M ┆ 1.2M  ┆ 1.18M │\n",
              "│ Andorra      ┆ 2650  ┆ 2650  ┆ 2650  ┆ … ┆ 49k   ┆ 48.4k ┆ 47.8k ┆ 47.2k │\n",
              "│ UAE          ┆ 40.2k ┆ 40.2k ┆ 40.2k ┆ … ┆ 25.4M ┆ 25.7M ┆ 25.9M ┆ 26.1M │\n",
              "│ …            ┆ …     ┆ …     ┆ …     ┆ … ┆ …     ┆ …     ┆ …     ┆ …     │\n",
              "│ Samoa        ┆ 47.3k ┆ 47.3k ┆ 47.3k ┆ … ┆ 380k  ┆ 381k  ┆ 382k  ┆ 384k  │\n",
              "│ Yemen        ┆ 2.59M ┆ 2.59M ┆ 2.59M ┆ … ┆ 109M  ┆ 109M  ┆ 110M  ┆ 110M  │\n",
              "│ South Africa ┆ 1.45M ┆ 1.45M ┆ 1.46M ┆ … ┆ 93.7M ┆ 93.9M ┆ 94.1M ┆ 94.3M │\n",
              "│ Zambia       ┆ 747k  ┆ 758k  ┆ 770k  ┆ … ┆ 63.4M ┆ 63.8M ┆ 64.1M ┆ 64.5M │\n",
              "│ Zimbabwe     ┆ 1.09M ┆ 1.09M ┆ 1.09M ┆ … ┆ 36.9M ┆ 37M   ┆ 37.1M ┆ 37.2M │\n",
              "└──────────────┴───────┴───────┴───────┴───┴───────┴───────┴───────┴───────┘"
            ],
            "text/html": [
              "<div><style>\n",
              ".dataframe > thead > tr,\n",
              ".dataframe > tbody > tr {\n",
              "  text-align: right;\n",
              "  white-space: pre-wrap;\n",
              "}\n",
              "</style>\n",
              "<small>shape: (197, 302)</small><table border=\"1\" class=\"dataframe\"><thead><tr><th>country</th><th>1800</th><th>1801</th><th>1802</th><th>1803</th><th>1804</th><th>1805</th><th>1806</th><th>1807</th><th>1808</th><th>1809</th><th>1810</th><th>1811</th><th>1812</th><th>1813</th><th>1814</th><th>1815</th><th>1816</th><th>1817</th><th>1818</th><th>1819</th><th>1820</th><th>1821</th><th>1822</th><th>1823</th><th>1824</th><th>1825</th><th>1826</th><th>1827</th><th>1828</th><th>1829</th><th>1830</th><th>1831</th><th>1832</th><th>1833</th><th>1834</th><th>1835</th><th>&hellip;</th><th>2064</th><th>2065</th><th>2066</th><th>2067</th><th>2068</th><th>2069</th><th>2070</th><th>2071</th><th>2072</th><th>2073</th><th>2074</th><th>2075</th><th>2076</th><th>2077</th><th>2078</th><th>2079</th><th>2080</th><th>2081</th><th>2082</th><th>2083</th><th>2084</th><th>2085</th><th>2086</th><th>2087</th><th>2088</th><th>2089</th><th>2090</th><th>2091</th><th>2092</th><th>2093</th><th>2094</th><th>2095</th><th>2096</th><th>2097</th><th>2098</th><th>2099</th><th>2100</th></tr><tr><td>str</td><td>str</td><td>str</td><td>str</td><td>str</td><td>str</td><td>str</td><td>str</td><td>str</td><td>str</td><td>str</td><td>str</td><td>str</td><td>str</td><td>str</td><td>str</td><td>str</td><td>str</td><td>str</td><td>str</td><td>str</td><td>str</td><td>str</td><td>str</td><td>str</td><td>str</td><td>str</td><td>str</td><td>str</td><td>str</td><td>str</td><td>str</td><td>str</td><td>str</td><td>str</td><td>str</td><td>str</td><td>&hellip;</td><td>str</td><td>str</td><td>str</td><td>str</td><td>str</td><td>str</td><td>str</td><td>str</td><td>str</td><td>str</td><td>str</td><td>str</td><td>str</td><td>str</td><td>str</td><td>str</td><td>str</td><td>str</td><td>str</td><td>str</td><td>str</td><td>str</td><td>str</td><td>str</td><td>str</td><td>str</td><td>str</td><td>str</td><td>str</td><td>str</td><td>str</td><td>str</td><td>str</td><td>str</td><td>str</td><td>str</td><td>str</td></tr></thead><tbody><tr><td>&quot;Afghanistan&quot;</td><td>&quot;3.28M&quot;</td><td>&quot;3.28M&quot;</td><td>&quot;3.28M&quot;</td><td>&quot;3.28M&quot;</td><td>&quot;3.28M&quot;</td><td>&quot;3.28M&quot;</td><td>&quot;3.28M&quot;</td><td>&quot;3.28M&quot;</td><td>&quot;3.28M&quot;</td><td>&quot;3.28M&quot;</td><td>&quot;3.28M&quot;</td><td>&quot;3.28M&quot;</td><td>&quot;3.28M&quot;</td><td>&quot;3.28M&quot;</td><td>&quot;3.28M&quot;</td><td>&quot;3.28M&quot;</td><td>&quot;3.28M&quot;</td><td>&quot;3.28M&quot;</td><td>&quot;3.28M&quot;</td><td>&quot;3.28M&quot;</td><td>&quot;3.29M&quot;</td><td>&quot;3.3M&quot;</td><td>&quot;3.31M&quot;</td><td>&quot;3.32M&quot;</td><td>&quot;3.34M&quot;</td><td>&quot;3.35M&quot;</td><td>&quot;3.37M&quot;</td><td>&quot;3.38M&quot;</td><td>&quot;3.4M&quot;</td><td>&quot;3.41M&quot;</td><td>&quot;3.43M&quot;</td><td>&quot;3.45M&quot;</td><td>&quot;3.46M&quot;</td><td>&quot;3.48M&quot;</td><td>&quot;3.49M&quot;</td><td>&quot;3.51M&quot;</td><td>&hellip;</td><td>&quot;95.6M&quot;</td><td>&quot;97M&quot;</td><td>&quot;98.3M&quot;</td><td>&quot;99.6M&quot;</td><td>&quot;101M&quot;</td><td>&quot;102M&quot;</td><td>&quot;103M&quot;</td><td>&quot;105M&quot;</td><td>&quot;106M&quot;</td><td>&quot;107M&quot;</td><td>&quot;108M&quot;</td><td>&quot;109M&quot;</td><td>&quot;110M&quot;</td><td>&quot;111M&quot;</td><td>&quot;113M&quot;</td><td>&quot;114M&quot;</td><td>&quot;115M&quot;</td><td>&quot;116M&quot;</td><td>&quot;117M&quot;</td><td>&quot;117M&quot;</td><td>&quot;118M&quot;</td><td>&quot;119M&quot;</td><td>&quot;120M&quot;</td><td>&quot;121M&quot;</td><td>&quot;122M&quot;</td><td>&quot;122M&quot;</td><td>&quot;123M&quot;</td><td>&quot;124M&quot;</td><td>&quot;125M&quot;</td><td>&quot;126M&quot;</td><td>&quot;126M&quot;</td><td>&quot;127M&quot;</td><td>&quot;128M&quot;</td><td>&quot;128M&quot;</td><td>&quot;129M&quot;</td><td>&quot;130M&quot;</td><td>&quot;130M&quot;</td></tr><tr><td>&quot;Angola&quot;</td><td>&quot;1.57M&quot;</td><td>&quot;1.57M&quot;</td><td>&quot;1.57M&quot;</td><td>&quot;1.57M&quot;</td><td>&quot;1.57M&quot;</td><td>&quot;1.57M&quot;</td><td>&quot;1.57M&quot;</td><td>&quot;1.57M&quot;</td><td>&quot;1.57M&quot;</td><td>&quot;1.57M&quot;</td><td>&quot;1.57M&quot;</td><td>&quot;1.57M&quot;</td><td>&quot;1.57M&quot;</td><td>&quot;1.57M&quot;</td><td>&quot;1.57M&quot;</td><td>&quot;1.57M&quot;</td><td>&quot;1.57M&quot;</td><td>&quot;1.57M&quot;</td><td>&quot;1.57M&quot;</td><td>&quot;1.57M&quot;</td><td>&quot;1.58M&quot;</td><td>&quot;1.59M&quot;</td><td>&quot;1.61M&quot;</td><td>&quot;1.64M&quot;</td><td>&quot;1.66M&quot;</td><td>&quot;1.69M&quot;</td><td>&quot;1.71M&quot;</td><td>&quot;1.74M&quot;</td><td>&quot;1.76M&quot;</td><td>&quot;1.79M&quot;</td><td>&quot;1.81M&quot;</td><td>&quot;1.84M&quot;</td><td>&quot;1.87M&quot;</td><td>&quot;1.9M&quot;</td><td>&quot;1.92M&quot;</td><td>&quot;1.95M&quot;</td><td>&hellip;</td><td>&quot;97.3M&quot;</td><td>&quot;98.9M&quot;</td><td>&quot;101M&quot;</td><td>&quot;102M&quot;</td><td>&quot;104M&quot;</td><td>&quot;105M&quot;</td><td>&quot;107M&quot;</td><td>&quot;109M&quot;</td><td>&quot;110M&quot;</td><td>&quot;112M&quot;</td><td>&quot;114M&quot;</td><td>&quot;115M&quot;</td><td>&quot;117M&quot;</td><td>&quot;118M&quot;</td><td>&quot;120M&quot;</td><td>&quot;121M&quot;</td><td>&quot;123M&quot;</td><td>&quot;125M&quot;</td><td>&quot;126M&quot;</td><td>&quot;128M&quot;</td><td>&quot;129M&quot;</td><td>&quot;130M&quot;</td><td>&quot;132M&quot;</td><td>&quot;133M&quot;</td><td>&quot;135M&quot;</td><td>&quot;136M&quot;</td><td>&quot;138M&quot;</td><td>&quot;139M&quot;</td><td>&quot;140M&quot;</td><td>&quot;142M&quot;</td><td>&quot;143M&quot;</td><td>&quot;144M&quot;</td><td>&quot;145M&quot;</td><td>&quot;147M&quot;</td><td>&quot;148M&quot;</td><td>&quot;149M&quot;</td><td>&quot;150M&quot;</td></tr><tr><td>&quot;Albania&quot;</td><td>&quot;400k&quot;</td><td>&quot;402k&quot;</td><td>&quot;404k&quot;</td><td>&quot;405k&quot;</td><td>&quot;407k&quot;</td><td>&quot;409k&quot;</td><td>&quot;411k&quot;</td><td>&quot;413k&quot;</td><td>&quot;414k&quot;</td><td>&quot;416k&quot;</td><td>&quot;418k&quot;</td><td>&quot;420k&quot;</td><td>&quot;422k&quot;</td><td>&quot;424k&quot;</td><td>&quot;426k&quot;</td><td>&quot;427k&quot;</td><td>&quot;429k&quot;</td><td>&quot;431k&quot;</td><td>&quot;433k&quot;</td><td>&quot;435k&quot;</td><td>&quot;437k&quot;</td><td>&quot;439k&quot;</td><td>&quot;441k&quot;</td><td>&quot;443k&quot;</td><td>&quot;445k&quot;</td><td>&quot;447k&quot;</td><td>&quot;449k&quot;</td><td>&quot;451k&quot;</td><td>&quot;453k&quot;</td><td>&quot;455k&quot;</td><td>&quot;457k&quot;</td><td>&quot;459k&quot;</td><td>&quot;461k&quot;</td><td>&quot;463k&quot;</td><td>&quot;465k&quot;</td><td>&quot;467k&quot;</td><td>&hellip;</td><td>&quot;1.93M&quot;</td><td>&quot;1.91M&quot;</td><td>&quot;1.89M&quot;</td><td>&quot;1.87M&quot;</td><td>&quot;1.85M&quot;</td><td>&quot;1.82M&quot;</td><td>&quot;1.8M&quot;</td><td>&quot;1.78M&quot;</td><td>&quot;1.76M&quot;</td><td>&quot;1.74M&quot;</td><td>&quot;1.72M&quot;</td><td>&quot;1.69M&quot;</td><td>&quot;1.67M&quot;</td><td>&quot;1.65M&quot;</td><td>&quot;1.63M&quot;</td><td>&quot;1.61M&quot;</td><td>&quot;1.58M&quot;</td><td>&quot;1.56M&quot;</td><td>&quot;1.54M&quot;</td><td>&quot;1.52M&quot;</td><td>&quot;1.49M&quot;</td><td>&quot;1.47M&quot;</td><td>&quot;1.45M&quot;</td><td>&quot;1.43M&quot;</td><td>&quot;1.41M&quot;</td><td>&quot;1.39M&quot;</td><td>&quot;1.36M&quot;</td><td>&quot;1.34M&quot;</td><td>&quot;1.32M&quot;</td><td>&quot;1.3M&quot;</td><td>&quot;1.29M&quot;</td><td>&quot;1.27M&quot;</td><td>&quot;1.25M&quot;</td><td>&quot;1.23M&quot;</td><td>&quot;1.22M&quot;</td><td>&quot;1.2M&quot;</td><td>&quot;1.18M&quot;</td></tr><tr><td>&quot;Andorra&quot;</td><td>&quot;2650&quot;</td><td>&quot;2650&quot;</td><td>&quot;2650&quot;</td><td>&quot;2650&quot;</td><td>&quot;2650&quot;</td><td>&quot;2650&quot;</td><td>&quot;2650&quot;</td><td>&quot;2650&quot;</td><td>&quot;2650&quot;</td><td>&quot;2650&quot;</td><td>&quot;2650&quot;</td><td>&quot;2650&quot;</td><td>&quot;2650&quot;</td><td>&quot;2650&quot;</td><td>&quot;2650&quot;</td><td>&quot;2650&quot;</td><td>&quot;2650&quot;</td><td>&quot;2650&quot;</td><td>&quot;2650&quot;</td><td>&quot;2660&quot;</td><td>&quot;2670&quot;</td><td>&quot;2680&quot;</td><td>&quot;2690&quot;</td><td>&quot;2710&quot;</td><td>&quot;2730&quot;</td><td>&quot;2750&quot;</td><td>&quot;2770&quot;</td><td>&quot;2790&quot;</td><td>&quot;2810&quot;</td><td>&quot;2830&quot;</td><td>&quot;2850&quot;</td><td>&quot;2870&quot;</td><td>&quot;2890&quot;</td><td>&quot;2910&quot;</td><td>&quot;2930&quot;</td><td>&quot;2950&quot;</td><td>&hellip;</td><td>&quot;71.9k&quot;</td><td>&quot;71.1k&quot;</td><td>&quot;70.3k&quot;</td><td>&quot;69.6k&quot;</td><td>&quot;68.8k&quot;</td><td>&quot;68k&quot;</td><td>&quot;67.2k&quot;</td><td>&quot;66.5k&quot;</td><td>&quot;65.8k&quot;</td><td>&quot;65.1k&quot;</td><td>&quot;64.4k&quot;</td><td>&quot;63.7k&quot;</td><td>&quot;63k&quot;</td><td>&quot;62.3k&quot;</td><td>&quot;61.5k&quot;</td><td>&quot;60.8k&quot;</td><td>&quot;60.1k&quot;</td><td>&quot;59.4k&quot;</td><td>&quot;58.7k&quot;</td><td>&quot;58k&quot;</td><td>&quot;57.3k&quot;</td><td>&quot;56.7k&quot;</td><td>&quot;56k&quot;</td><td>&quot;55.4k&quot;</td><td>&quot;54.7k&quot;</td><td>&quot;54.1k&quot;</td><td>&quot;53.4k&quot;</td><td>&quot;52.8k&quot;</td><td>&quot;52.1k&quot;</td><td>&quot;51.5k&quot;</td><td>&quot;50.8k&quot;</td><td>&quot;50.2k&quot;</td><td>&quot;49.6k&quot;</td><td>&quot;49k&quot;</td><td>&quot;48.4k&quot;</td><td>&quot;47.8k&quot;</td><td>&quot;47.2k&quot;</td></tr><tr><td>&quot;UAE&quot;</td><td>&quot;40.2k&quot;</td><td>&quot;40.2k&quot;</td><td>&quot;40.2k&quot;</td><td>&quot;40.2k&quot;</td><td>&quot;40.2k&quot;</td><td>&quot;40.2k&quot;</td><td>&quot;40.2k&quot;</td><td>&quot;40.2k&quot;</td><td>&quot;40.2k&quot;</td><td>&quot;40.2k&quot;</td><td>&quot;40.2k&quot;</td><td>&quot;40.2k&quot;</td><td>&quot;40.2k&quot;</td><td>&quot;40.2k&quot;</td><td>&quot;40.2k&quot;</td><td>&quot;40.2k&quot;</td><td>&quot;40.2k&quot;</td><td>&quot;40.2k&quot;</td><td>&quot;40.2k&quot;</td><td>&quot;40.2k&quot;</td><td>&quot;40.2k&quot;</td><td>&quot;40.2k&quot;</td><td>&quot;40.2k&quot;</td><td>&quot;40.2k&quot;</td><td>&quot;40.2k&quot;</td><td>&quot;40.2k&quot;</td><td>&quot;40.2k&quot;</td><td>&quot;40.2k&quot;</td><td>&quot;40.2k&quot;</td><td>&quot;40.2k&quot;</td><td>&quot;40.2k&quot;</td><td>&quot;40.2k&quot;</td><td>&quot;40.2k&quot;</td><td>&quot;40.2k&quot;</td><td>&quot;40.2k&quot;</td><td>&quot;40.2k&quot;</td><td>&hellip;</td><td>&quot;18M&quot;</td><td>&quot;18.2M&quot;</td><td>&quot;18.5M&quot;</td><td>&quot;18.7M&quot;</td><td>&quot;18.9M&quot;</td><td>&quot;19.1M&quot;</td><td>&quot;19.3M&quot;</td><td>&quot;19.6M&quot;</td><td>&quot;19.8M&quot;</td><td>&quot;20M&quot;</td><td>&quot;20.2M&quot;</td><td>&quot;20.5M&quot;</td><td>&quot;20.7M&quot;</td><td>&quot;20.9M&quot;</td><td>&quot;21.2M&quot;</td><td>&quot;21.4M&quot;</td><td>&quot;21.6M&quot;</td><td>&quot;21.8M&quot;</td><td>&quot;22.1M&quot;</td><td>&quot;22.3M&quot;</td><td>&quot;22.5M&quot;</td><td>&quot;22.7M&quot;</td><td>&quot;23M&quot;</td><td>&quot;23.2M&quot;</td><td>&quot;23.4M&quot;</td><td>&quot;23.6M&quot;</td><td>&quot;23.9M&quot;</td><td>&quot;24.1M&quot;</td><td>&quot;24.3M&quot;</td><td>&quot;24.5M&quot;</td><td>&quot;24.7M&quot;</td><td>&quot;25M&quot;</td><td>&quot;25.2M&quot;</td><td>&quot;25.4M&quot;</td><td>&quot;25.7M&quot;</td><td>&quot;25.9M&quot;</td><td>&quot;26.1M&quot;</td></tr><tr><td>&hellip;</td><td>&hellip;</td><td>&hellip;</td><td>&hellip;</td><td>&hellip;</td><td>&hellip;</td><td>&hellip;</td><td>&hellip;</td><td>&hellip;</td><td>&hellip;</td><td>&hellip;</td><td>&hellip;</td><td>&hellip;</td><td>&hellip;</td><td>&hellip;</td><td>&hellip;</td><td>&hellip;</td><td>&hellip;</td><td>&hellip;</td><td>&hellip;</td><td>&hellip;</td><td>&hellip;</td><td>&hellip;</td><td>&hellip;</td><td>&hellip;</td><td>&hellip;</td><td>&hellip;</td><td>&hellip;</td><td>&hellip;</td><td>&hellip;</td><td>&hellip;</td><td>&hellip;</td><td>&hellip;</td><td>&hellip;</td><td>&hellip;</td><td>&hellip;</td><td>&hellip;</td><td>&hellip;</td><td>&hellip;</td><td>&hellip;</td><td>&hellip;</td><td>&hellip;</td><td>&hellip;</td><td>&hellip;</td><td>&hellip;</td><td>&hellip;</td><td>&hellip;</td><td>&hellip;</td><td>&hellip;</td><td>&hellip;</td><td>&hellip;</td><td>&hellip;</td><td>&hellip;</td><td>&hellip;</td><td>&hellip;</td><td>&hellip;</td><td>&hellip;</td><td>&hellip;</td><td>&hellip;</td><td>&hellip;</td><td>&hellip;</td><td>&hellip;</td><td>&hellip;</td><td>&hellip;</td><td>&hellip;</td><td>&hellip;</td><td>&hellip;</td><td>&hellip;</td><td>&hellip;</td><td>&hellip;</td><td>&hellip;</td><td>&hellip;</td><td>&hellip;</td><td>&hellip;</td><td>&hellip;</td></tr><tr><td>&quot;Samoa&quot;</td><td>&quot;47.3k&quot;</td><td>&quot;47.3k&quot;</td><td>&quot;47.3k&quot;</td><td>&quot;47.3k&quot;</td><td>&quot;47.3k&quot;</td><td>&quot;47.3k&quot;</td><td>&quot;47.3k&quot;</td><td>&quot;47.2k&quot;</td><td>&quot;47.2k&quot;</td><td>&quot;47.2k&quot;</td><td>&quot;47.2k&quot;</td><td>&quot;47.2k&quot;</td><td>&quot;47.2k&quot;</td><td>&quot;47.2k&quot;</td><td>&quot;47.2k&quot;</td><td>&quot;47.2k&quot;</td><td>&quot;47.2k&quot;</td><td>&quot;47.2k&quot;</td><td>&quot;47.2k&quot;</td><td>&quot;47.1k&quot;</td><td>&quot;47.1k&quot;</td><td>&quot;47.1k&quot;</td><td>&quot;47.1k&quot;</td><td>&quot;47.1k&quot;</td><td>&quot;47.1k&quot;</td><td>&quot;47.1k&quot;</td><td>&quot;47.1k&quot;</td><td>&quot;47.1k&quot;</td><td>&quot;47.1k&quot;</td><td>&quot;47.1k&quot;</td><td>&quot;47.1k&quot;</td><td>&quot;47.1k&quot;</td><td>&quot;47k&quot;</td><td>&quot;47k&quot;</td><td>&quot;47k&quot;</td><td>&quot;47k&quot;</td><td>&hellip;</td><td>&quot;306k&quot;</td><td>&quot;308k&quot;</td><td>&quot;311k&quot;</td><td>&quot;314k&quot;</td><td>&quot;317k&quot;</td><td>&quot;319k&quot;</td><td>&quot;322k&quot;</td><td>&quot;325k&quot;</td><td>&quot;328k&quot;</td><td>&quot;330k&quot;</td><td>&quot;333k&quot;</td><td>&quot;336k&quot;</td><td>&quot;338k&quot;</td><td>&quot;341k&quot;</td><td>&quot;343k&quot;</td><td>&quot;346k&quot;</td><td>&quot;348k&quot;</td><td>&quot;350k&quot;</td><td>&quot;353k&quot;</td><td>&quot;355k&quot;</td><td>&quot;357k&quot;</td><td>&quot;359k&quot;</td><td>&quot;361k&quot;</td><td>&quot;363k&quot;</td><td>&quot;365k&quot;</td><td>&quot;367k&quot;</td><td>&quot;368k&quot;</td><td>&quot;370k&quot;</td><td>&quot;372k&quot;</td><td>&quot;374k&quot;</td><td>&quot;375k&quot;</td><td>&quot;377k&quot;</td><td>&quot;378k&quot;</td><td>&quot;380k&quot;</td><td>&quot;381k&quot;</td><td>&quot;382k&quot;</td><td>&quot;384k&quot;</td></tr><tr><td>&quot;Yemen&quot;</td><td>&quot;2.59M&quot;</td><td>&quot;2.59M&quot;</td><td>&quot;2.59M&quot;</td><td>&quot;2.59M&quot;</td><td>&quot;2.59M&quot;</td><td>&quot;2.59M&quot;</td><td>&quot;2.59M&quot;</td><td>&quot;2.59M&quot;</td><td>&quot;2.59M&quot;</td><td>&quot;2.59M&quot;</td><td>&quot;2.59M&quot;</td><td>&quot;2.59M&quot;</td><td>&quot;2.59M&quot;</td><td>&quot;2.59M&quot;</td><td>&quot;2.59M&quot;</td><td>&quot;2.59M&quot;</td><td>&quot;2.59M&quot;</td><td>&quot;2.59M&quot;</td><td>&quot;2.59M&quot;</td><td>&quot;2.59M&quot;</td><td>&quot;2.6M&quot;</td><td>&quot;2.6M&quot;</td><td>&quot;2.6M&quot;</td><td>&quot;2.61M&quot;</td><td>&quot;2.61M&quot;</td><td>&quot;2.62M&quot;</td><td>&quot;2.62M&quot;</td><td>&quot;2.63M&quot;</td><td>&quot;2.63M&quot;</td><td>&quot;2.64M&quot;</td><td>&quot;2.64M&quot;</td><td>&quot;2.65M&quot;</td><td>&quot;2.65M&quot;</td><td>&quot;2.66M&quot;</td><td>&quot;2.66M&quot;</td><td>&quot;2.66M&quot;</td><td>&hellip;</td><td>&quot;86.2M&quot;</td><td>&quot;87.2M&quot;</td><td>&quot;88.2M&quot;</td><td>&quot;89.1M&quot;</td><td>&quot;90M&quot;</td><td>&quot;90.9M&quot;</td><td>&quot;91.8M&quot;</td><td>&quot;92.7M&quot;</td><td>&quot;93.6M&quot;</td><td>&quot;94.4M&quot;</td><td>&quot;95.2M&quot;</td><td>&quot;96M&quot;</td><td>&quot;96.8M&quot;</td><td>&quot;97.6M&quot;</td><td>&quot;98.3M&quot;</td><td>&quot;99.1M&quot;</td><td>&quot;99.8M&quot;</td><td>&quot;100M&quot;</td><td>&quot;101M&quot;</td><td>&quot;102M&quot;</td><td>&quot;103M&quot;</td><td>&quot;103M&quot;</td><td>&quot;104M&quot;</td><td>&quot;104M&quot;</td><td>&quot;105M&quot;</td><td>&quot;105M&quot;</td><td>&quot;106M&quot;</td><td>&quot;107M&quot;</td><td>&quot;107M&quot;</td><td>&quot;107M&quot;</td><td>&quot;108M&quot;</td><td>&quot;108M&quot;</td><td>&quot;109M&quot;</td><td>&quot;109M&quot;</td><td>&quot;109M&quot;</td><td>&quot;110M&quot;</td><td>&quot;110M&quot;</td></tr><tr><td>&quot;South Africa&quot;</td><td>&quot;1.45M&quot;</td><td>&quot;1.45M&quot;</td><td>&quot;1.46M&quot;</td><td>&quot;1.46M&quot;</td><td>&quot;1.47M&quot;</td><td>&quot;1.47M&quot;</td><td>&quot;1.48M&quot;</td><td>&quot;1.49M&quot;</td><td>&quot;1.49M&quot;</td><td>&quot;1.5M&quot;</td><td>&quot;1.5M&quot;</td><td>&quot;1.51M&quot;</td><td>&quot;1.51M&quot;</td><td>&quot;1.52M&quot;</td><td>&quot;1.53M&quot;</td><td>&quot;1.54M&quot;</td><td>&quot;1.55M&quot;</td><td>&quot;1.55M&quot;</td><td>&quot;1.56M&quot;</td><td>&quot;1.57M&quot;</td><td>&quot;1.58M&quot;</td><td>&quot;1.6M&quot;</td><td>&quot;1.62M&quot;</td><td>&quot;1.66M&quot;</td><td>&quot;1.69M&quot;</td><td>&quot;1.73M&quot;</td><td>&quot;1.77M&quot;</td><td>&quot;1.81M&quot;</td><td>&quot;1.85M&quot;</td><td>&quot;1.89M&quot;</td><td>&quot;1.93M&quot;</td><td>&quot;1.98M&quot;</td><td>&quot;2.02M&quot;</td><td>&quot;2.07M&quot;</td><td>&quot;2.11M&quot;</td><td>&quot;2.16M&quot;</td><td>&hellip;</td><td>&quot;84.9M&quot;</td><td>&quot;85.3M&quot;</td><td>&quot;85.6M&quot;</td><td>&quot;85.9M&quot;</td><td>&quot;86.2M&quot;</td><td>&quot;86.5M&quot;</td><td>&quot;86.9M&quot;</td><td>&quot;87.2M&quot;</td><td>&quot;87.5M&quot;</td><td>&quot;87.8M&quot;</td><td>&quot;88M&quot;</td><td>&quot;88.3M&quot;</td><td>&quot;88.6M&quot;</td><td>&quot;88.9M&quot;</td><td>&quot;89.1M&quot;</td><td>&quot;89.4M&quot;</td><td>&quot;89.7M&quot;</td><td>&quot;89.9M&quot;</td><td>&quot;90.2M&quot;</td><td>&quot;90.5M&quot;</td><td>&quot;90.7M&quot;</td><td>&quot;91M&quot;</td><td>&quot;91.2M&quot;</td><td>&quot;91.4M&quot;</td><td>&quot;91.7M&quot;</td><td>&quot;91.9M&quot;</td><td>&quot;92.2M&quot;</td><td>&quot;92.4M&quot;</td><td>&quot;92.6M&quot;</td><td>&quot;92.9M&quot;</td><td>&quot;93.1M&quot;</td><td>&quot;93.3M&quot;</td><td>&quot;93.5M&quot;</td><td>&quot;93.7M&quot;</td><td>&quot;93.9M&quot;</td><td>&quot;94.1M&quot;</td><td>&quot;94.3M&quot;</td></tr><tr><td>&quot;Zambia&quot;</td><td>&quot;747k&quot;</td><td>&quot;758k&quot;</td><td>&quot;770k&quot;</td><td>&quot;782k&quot;</td><td>&quot;794k&quot;</td><td>&quot;806k&quot;</td><td>&quot;818k&quot;</td><td>&quot;831k&quot;</td><td>&quot;843k&quot;</td><td>&quot;856k&quot;</td><td>&quot;869k&quot;</td><td>&quot;883k&quot;</td><td>&quot;896k&quot;</td><td>&quot;910k&quot;</td><td>&quot;924k&quot;</td><td>&quot;938k&quot;</td><td>&quot;952k&quot;</td><td>&quot;967k&quot;</td><td>&quot;981k&quot;</td><td>&quot;996k&quot;</td><td>&quot;1.01M&quot;</td><td>&quot;1.03M&quot;</td><td>&quot;1.04M&quot;</td><td>&quot;1.06M&quot;</td><td>&quot;1.07M&quot;</td><td>&quot;1.09M&quot;</td><td>&quot;1.11M&quot;</td><td>&quot;1.12M&quot;</td><td>&quot;1.14M&quot;</td><td>&quot;1.16M&quot;</td><td>&quot;1.18M&quot;</td><td>&quot;1.2M&quot;</td><td>&quot;1.21M&quot;</td><td>&quot;1.23M&quot;</td><td>&quot;1.25M&quot;</td><td>&quot;1.27M&quot;</td><td>&hellip;</td><td>&quot;46.9M&quot;</td><td>&quot;47.6M&quot;</td><td>&quot;48.2M&quot;</td><td>&quot;48.7M&quot;</td><td>&quot;49.3M&quot;</td><td>&quot;49.9M&quot;</td><td>&quot;50.5M&quot;</td><td>&quot;51.1M&quot;</td><td>&quot;51.7M&quot;</td><td>&quot;52.2M&quot;</td><td>&quot;52.8M&quot;</td><td>&quot;53.3M&quot;</td><td>&quot;53.9M&quot;</td><td>&quot;54.4M&quot;</td><td>&quot;54.9M&quot;</td><td>&quot;55.5M&quot;</td><td>&quot;56M&quot;</td><td>&quot;56.5M&quot;</td><td>&quot;57M&quot;</td><td>&quot;57.5M&quot;</td><td>&quot;58M&quot;</td><td>&quot;58.4M&quot;</td><td>&quot;58.9M&quot;</td><td>&quot;59.4M&quot;</td><td>&quot;59.8M&quot;</td><td>&quot;60.2M&quot;</td><td>&quot;60.7M&quot;</td><td>&quot;61.1M&quot;</td><td>&quot;61.5M&quot;</td><td>&quot;61.9M&quot;</td><td>&quot;62.3M&quot;</td><td>&quot;62.7M&quot;</td><td>&quot;63.1M&quot;</td><td>&quot;63.4M&quot;</td><td>&quot;63.8M&quot;</td><td>&quot;64.1M&quot;</td><td>&quot;64.5M&quot;</td></tr><tr><td>&quot;Zimbabwe&quot;</td><td>&quot;1.09M&quot;</td><td>&quot;1.09M&quot;</td><td>&quot;1.09M&quot;</td><td>&quot;1.09M&quot;</td><td>&quot;1.09M&quot;</td><td>&quot;1.09M&quot;</td><td>&quot;1.09M&quot;</td><td>&quot;1.09M&quot;</td><td>&quot;1.09M&quot;</td><td>&quot;1.09M&quot;</td><td>&quot;1.09M&quot;</td><td>&quot;1.09M&quot;</td><td>&quot;1.09M&quot;</td><td>&quot;1.09M&quot;</td><td>&quot;1.09M&quot;</td><td>&quot;1.09M&quot;</td><td>&quot;1.09M&quot;</td><td>&quot;1.09M&quot;</td><td>&quot;1.09M&quot;</td><td>&quot;1.08M&quot;</td><td>&quot;1.08M&quot;</td><td>&quot;1.06M&quot;</td><td>&quot;1.05M&quot;</td><td>&quot;1.03M&quot;</td><td>&quot;1.02M&quot;</td><td>&quot;1M&quot;</td><td>&quot;985k&quot;</td><td>&quot;969k&quot;</td><td>&quot;953k&quot;</td><td>&quot;938k&quot;</td><td>&quot;923k&quot;</td><td>&quot;908k&quot;</td><td>&quot;893k&quot;</td><td>&quot;879k&quot;</td><td>&quot;864k&quot;</td><td>&quot;850k&quot;</td><td>&hellip;</td><td>&quot;30.3M&quot;</td><td>&quot;30.6M&quot;</td><td>&quot;30.9M&quot;</td><td>&quot;31.2M&quot;</td><td>&quot;31.5M&quot;</td><td>&quot;31.7M&quot;</td><td>&quot;32M&quot;</td><td>&quot;32.3M&quot;</td><td>&quot;32.5M&quot;</td><td>&quot;32.8M&quot;</td><td>&quot;33.1M&quot;</td><td>&quot;33.3M&quot;</td><td>&quot;33.5M&quot;</td><td>&quot;33.8M&quot;</td><td>&quot;34M&quot;</td><td>&quot;34.2M&quot;</td><td>&quot;34.4M&quot;</td><td>&quot;34.6M&quot;</td><td>&quot;34.8M&quot;</td><td>&quot;35M&quot;</td><td>&quot;35.2M&quot;</td><td>&quot;35.4M&quot;</td><td>&quot;35.6M&quot;</td><td>&quot;35.7M&quot;</td><td>&quot;35.9M&quot;</td><td>&quot;36M&quot;</td><td>&quot;36.2M&quot;</td><td>&quot;36.3M&quot;</td><td>&quot;36.4M&quot;</td><td>&quot;36.5M&quot;</td><td>&quot;36.6M&quot;</td><td>&quot;36.7M&quot;</td><td>&quot;36.8M&quot;</td><td>&quot;36.9M&quot;</td><td>&quot;37M&quot;</td><td>&quot;37.1M&quot;</td><td>&quot;37.2M&quot;</td></tr></tbody></table></div>"
            ]
          },
          "metadata": {},
          "execution_count": 7
        }
      ]
    },
    {
      "cell_type": "markdown",
      "source": [
        "Finally, we have data (and projections) about the countries' GDP per capita (in inflation adjusted 2017 USD) from 1800–2100."
      ],
      "metadata": {
        "id": "v1m_g0gK8UGp"
      }
    },
    {
      "cell_type": "code",
      "source": [
        "gdp_untidy"
      ],
      "metadata": {
        "id": "cm861IuK8ZOC",
        "outputId": "2d477ec8-70b9-48aa-fbea-86ca4b2e3047",
        "colab": {
          "base_uri": "https://localhost:8080/",
          "height": 481
        }
      },
      "execution_count": 8,
      "outputs": [
        {
          "output_type": "execute_result",
          "data": {
            "text/plain": [
              "shape: (195, 302)\n",
              "┌──────────────┬──────┬──────┬──────┬───┬───────┬───────┬───────┬───────┐\n",
              "│ country      ┆ 1800 ┆ 1801 ┆ 1802 ┆ … ┆ 2097  ┆ 2098  ┆ 2099  ┆ 2100  │\n",
              "│ ---          ┆ ---  ┆ ---  ┆ ---  ┆   ┆ ---   ┆ ---   ┆ ---   ┆ ---   │\n",
              "│ str          ┆ str  ┆ str  ┆ str  ┆   ┆ str   ┆ str   ┆ str   ┆ str   │\n",
              "╞══════════════╪══════╪══════╪══════╪═══╪═══════╪═══════╪═══════╪═══════╡\n",
              "│ Afghanistan  ┆ 481  ┆ 481  ┆ 481  ┆ … ┆ 5380  ┆ 5510  ┆ 5640  ┆ 5780  │\n",
              "│ Angola       ┆ 373  ┆ 374  ┆ 376  ┆ … ┆ 27.7k ┆ 28.2k ┆ 28.8k ┆ 29.3k │\n",
              "│ Albania      ┆ 469  ┆ 471  ┆ 472  ┆ … ┆ 58k   ┆ 58.6k ┆ 59.2k ┆ 59.8k │\n",
              "│ Andorra      ┆ 1370 ┆ 1370 ┆ 1370 ┆ … ┆ 81.5k ┆ 81.8k ┆ 82k   ┆ 82.3k │\n",
              "│ UAE          ┆ 1140 ┆ 1150 ┆ 1150 ┆ … ┆ 92.8k ┆ 92.8k ┆ 92.8k ┆ 92.9k │\n",
              "│ …            ┆ …    ┆ …    ┆ …    ┆ … ┆ …     ┆ …     ┆ …     ┆ …     │\n",
              "│ Samoa        ┆ 1600 ┆ 1600 ┆ 1600 ┆ … ┆ 27k   ┆ 27.6k ┆ 28.1k ┆ 28.6k │\n",
              "│ Yemen        ┆ 1010 ┆ 1010 ┆ 1020 ┆ … ┆ 7120  ┆ 7290  ┆ 7470  ┆ 7650  │\n",
              "│ South Africa ┆ 1750 ┆ 1730 ┆ 1710 ┆ … ┆ 48.2k ┆ 48.8k ┆ 49.5k ┆ 50.1k │\n",
              "│ Zambia       ┆ 533  ┆ 535  ┆ 536  ┆ … ┆ 19k   ┆ 19.4k ┆ 19.9k ┆ 20.3k │\n",
              "│ Zimbabwe     ┆ 919  ┆ 920  ┆ 921  ┆ … ┆ 11.4k ┆ 11.6k ┆ 11.9k ┆ 12.2k │\n",
              "└──────────────┴──────┴──────┴──────┴───┴───────┴───────┴───────┴───────┘"
            ],
            "text/html": [
              "<div><style>\n",
              ".dataframe > thead > tr,\n",
              ".dataframe > tbody > tr {\n",
              "  text-align: right;\n",
              "  white-space: pre-wrap;\n",
              "}\n",
              "</style>\n",
              "<small>shape: (195, 302)</small><table border=\"1\" class=\"dataframe\"><thead><tr><th>country</th><th>1800</th><th>1801</th><th>1802</th><th>1803</th><th>1804</th><th>1805</th><th>1806</th><th>1807</th><th>1808</th><th>1809</th><th>1810</th><th>1811</th><th>1812</th><th>1813</th><th>1814</th><th>1815</th><th>1816</th><th>1817</th><th>1818</th><th>1819</th><th>1820</th><th>1821</th><th>1822</th><th>1823</th><th>1824</th><th>1825</th><th>1826</th><th>1827</th><th>1828</th><th>1829</th><th>1830</th><th>1831</th><th>1832</th><th>1833</th><th>1834</th><th>1835</th><th>&hellip;</th><th>2064</th><th>2065</th><th>2066</th><th>2067</th><th>2068</th><th>2069</th><th>2070</th><th>2071</th><th>2072</th><th>2073</th><th>2074</th><th>2075</th><th>2076</th><th>2077</th><th>2078</th><th>2079</th><th>2080</th><th>2081</th><th>2082</th><th>2083</th><th>2084</th><th>2085</th><th>2086</th><th>2087</th><th>2088</th><th>2089</th><th>2090</th><th>2091</th><th>2092</th><th>2093</th><th>2094</th><th>2095</th><th>2096</th><th>2097</th><th>2098</th><th>2099</th><th>2100</th></tr><tr><td>str</td><td>str</td><td>str</td><td>str</td><td>str</td><td>str</td><td>str</td><td>str</td><td>str</td><td>str</td><td>str</td><td>str</td><td>str</td><td>str</td><td>str</td><td>str</td><td>str</td><td>str</td><td>str</td><td>str</td><td>str</td><td>str</td><td>str</td><td>str</td><td>str</td><td>str</td><td>str</td><td>str</td><td>str</td><td>str</td><td>str</td><td>str</td><td>str</td><td>str</td><td>str</td><td>str</td><td>str</td><td>&hellip;</td><td>str</td><td>str</td><td>str</td><td>str</td><td>str</td><td>str</td><td>str</td><td>str</td><td>str</td><td>str</td><td>str</td><td>str</td><td>str</td><td>str</td><td>str</td><td>str</td><td>str</td><td>str</td><td>str</td><td>str</td><td>str</td><td>str</td><td>str</td><td>str</td><td>str</td><td>str</td><td>str</td><td>str</td><td>str</td><td>str</td><td>str</td><td>str</td><td>str</td><td>str</td><td>str</td><td>str</td><td>str</td></tr></thead><tbody><tr><td>&quot;Afghanistan&quot;</td><td>&quot;481&quot;</td><td>&quot;481&quot;</td><td>&quot;481&quot;</td><td>&quot;481&quot;</td><td>&quot;481&quot;</td><td>&quot;481&quot;</td><td>&quot;481&quot;</td><td>&quot;481&quot;</td><td>&quot;481&quot;</td><td>&quot;481&quot;</td><td>&quot;481&quot;</td><td>&quot;481&quot;</td><td>&quot;481&quot;</td><td>&quot;481&quot;</td><td>&quot;481&quot;</td><td>&quot;481&quot;</td><td>&quot;481&quot;</td><td>&quot;481&quot;</td><td>&quot;481&quot;</td><td>&quot;481&quot;</td><td>&quot;481&quot;</td><td>&quot;481&quot;</td><td>&quot;482&quot;</td><td>&quot;483&quot;</td><td>&quot;484&quot;</td><td>&quot;485&quot;</td><td>&quot;486&quot;</td><td>&quot;487&quot;</td><td>&quot;488&quot;</td><td>&quot;490&quot;</td><td>&quot;491&quot;</td><td>&quot;492&quot;</td><td>&quot;493&quot;</td><td>&quot;494&quot;</td><td>&quot;495&quot;</td><td>&quot;496&quot;</td><td>&hellip;</td><td>&quot;2630&quot;</td><td>&quot;2680&quot;</td><td>&quot;2740&quot;</td><td>&quot;2790&quot;</td><td>&quot;2850&quot;</td><td>&quot;2910&quot;</td><td>&quot;2970&quot;</td><td>&quot;3030&quot;</td><td>&quot;3090&quot;</td><td>&quot;3160&quot;</td><td>&quot;3220&quot;</td><td>&quot;3290&quot;</td><td>&quot;3360&quot;</td><td>&quot;3430&quot;</td><td>&quot;3510&quot;</td><td>&quot;3590&quot;</td><td>&quot;3660&quot;</td><td>&quot;3750&quot;</td><td>&quot;3830&quot;</td><td>&quot;3910&quot;</td><td>&quot;4000&quot;</td><td>&quot;4090&quot;</td><td>&quot;4180&quot;</td><td>&quot;4280&quot;</td><td>&quot;4380&quot;</td><td>&quot;4480&quot;</td><td>&quot;4580&quot;</td><td>&quot;4680&quot;</td><td>&quot;4790&quot;</td><td>&quot;4910&quot;</td><td>&quot;5020&quot;</td><td>&quot;5140&quot;</td><td>&quot;5260&quot;</td><td>&quot;5380&quot;</td><td>&quot;5510&quot;</td><td>&quot;5640&quot;</td><td>&quot;5780&quot;</td></tr><tr><td>&quot;Angola&quot;</td><td>&quot;373&quot;</td><td>&quot;374&quot;</td><td>&quot;376&quot;</td><td>&quot;378&quot;</td><td>&quot;379&quot;</td><td>&quot;381&quot;</td><td>&quot;383&quot;</td><td>&quot;385&quot;</td><td>&quot;386&quot;</td><td>&quot;388&quot;</td><td>&quot;389&quot;</td><td>&quot;391&quot;</td><td>&quot;393&quot;</td><td>&quot;395&quot;</td><td>&quot;397&quot;</td><td>&quot;398&quot;</td><td>&quot;400&quot;</td><td>&quot;401&quot;</td><td>&quot;403&quot;</td><td>&quot;405&quot;</td><td>&quot;407&quot;</td><td>&quot;409&quot;</td><td>&quot;410&quot;</td><td>&quot;412&quot;</td><td>&quot;414&quot;</td><td>&quot;416&quot;</td><td>&quot;418&quot;</td><td>&quot;420&quot;</td><td>&quot;421&quot;</td><td>&quot;423&quot;</td><td>&quot;425&quot;</td><td>&quot;427&quot;</td><td>&quot;429&quot;</td><td>&quot;431&quot;</td><td>&quot;433&quot;</td><td>&quot;435&quot;</td><td>&hellip;</td><td>&quot;13.4k&quot;</td><td>&quot;13.8k&quot;</td><td>&quot;14.1k&quot;</td><td>&quot;14.4k&quot;</td><td>&quot;14.8k&quot;</td><td>&quot;15.1k&quot;</td><td>&quot;15.5k&quot;</td><td>&quot;15.8k&quot;</td><td>&quot;16.2k&quot;</td><td>&quot;16.6k&quot;</td><td>&quot;17k&quot;</td><td>&quot;17.3k&quot;</td><td>&quot;17.7k&quot;</td><td>&quot;18.1k&quot;</td><td>&quot;18.6k&quot;</td><td>&quot;19k&quot;</td><td>&quot;19.4k&quot;</td><td>&quot;19.8k&quot;</td><td>&quot;20.3k&quot;</td><td>&quot;20.7k&quot;</td><td>&quot;21.2k&quot;</td><td>&quot;21.6k&quot;</td><td>&quot;22.1k&quot;</td><td>&quot;22.6k&quot;</td><td>&quot;23.1k&quot;</td><td>&quot;23.5k&quot;</td><td>&quot;24k&quot;</td><td>&quot;24.5k&quot;</td><td>&quot;25k&quot;</td><td>&quot;25.6k&quot;</td><td>&quot;26.1k&quot;</td><td>&quot;26.6k&quot;</td><td>&quot;27.1k&quot;</td><td>&quot;27.7k&quot;</td><td>&quot;28.2k&quot;</td><td>&quot;28.8k&quot;</td><td>&quot;29.3k&quot;</td></tr><tr><td>&quot;Albania&quot;</td><td>&quot;469&quot;</td><td>&quot;471&quot;</td><td>&quot;472&quot;</td><td>&quot;473&quot;</td><td>&quot;475&quot;</td><td>&quot;476&quot;</td><td>&quot;477&quot;</td><td>&quot;479&quot;</td><td>&quot;480&quot;</td><td>&quot;482&quot;</td><td>&quot;483&quot;</td><td>&quot;484&quot;</td><td>&quot;486&quot;</td><td>&quot;487&quot;</td><td>&quot;489&quot;</td><td>&quot;490&quot;</td><td>&quot;491&quot;</td><td>&quot;493&quot;</td><td>&quot;494&quot;</td><td>&quot;496&quot;</td><td>&quot;497&quot;</td><td>&quot;498&quot;</td><td>&quot;500&quot;</td><td>&quot;501&quot;</td><td>&quot;503&quot;</td><td>&quot;504&quot;</td><td>&quot;506&quot;</td><td>&quot;507&quot;</td><td>&quot;508&quot;</td><td>&quot;510&quot;</td><td>&quot;511&quot;</td><td>&quot;513&quot;</td><td>&quot;514&quot;</td><td>&quot;516&quot;</td><td>&quot;517&quot;</td><td>&quot;519&quot;</td><td>&hellip;</td><td>&quot;37.6k&quot;</td><td>&quot;38.2k&quot;</td><td>&quot;38.8k&quot;</td><td>&quot;39.4k&quot;</td><td>&quot;40.1k&quot;</td><td>&quot;40.7k&quot;</td><td>&quot;41.3k&quot;</td><td>&quot;42k&quot;</td><td>&quot;42.6k&quot;</td><td>&quot;43.2k&quot;</td><td>&quot;43.8k&quot;</td><td>&quot;44.5k&quot;</td><td>&quot;45.1k&quot;</td><td>&quot;45.7k&quot;</td><td>&quot;46.4k&quot;</td><td>&quot;47k&quot;</td><td>&quot;47.6k&quot;</td><td>&quot;48.3k&quot;</td><td>&quot;48.9k&quot;</td><td>&quot;49.5k&quot;</td><td>&quot;50.1k&quot;</td><td>&quot;50.8k&quot;</td><td>&quot;51.4k&quot;</td><td>&quot;52k&quot;</td><td>&quot;52.6k&quot;</td><td>&quot;53.2k&quot;</td><td>&quot;53.8k&quot;</td><td>&quot;54.5k&quot;</td><td>&quot;55.1k&quot;</td><td>&quot;55.7k&quot;</td><td>&quot;56.3k&quot;</td><td>&quot;56.9k&quot;</td><td>&quot;57.4k&quot;</td><td>&quot;58k&quot;</td><td>&quot;58.6k&quot;</td><td>&quot;59.2k&quot;</td><td>&quot;59.8k&quot;</td></tr><tr><td>&quot;Andorra&quot;</td><td>&quot;1370&quot;</td><td>&quot;1370&quot;</td><td>&quot;1370&quot;</td><td>&quot;1380&quot;</td><td>&quot;1380&quot;</td><td>&quot;1380&quot;</td><td>&quot;1390&quot;</td><td>&quot;1390&quot;</td><td>&quot;1390&quot;</td><td>&quot;1390&quot;</td><td>&quot;1400&quot;</td><td>&quot;1400&quot;</td><td>&quot;1400&quot;</td><td>&quot;1400&quot;</td><td>&quot;1410&quot;</td><td>&quot;1410&quot;</td><td>&quot;1410&quot;</td><td>&quot;1410&quot;</td><td>&quot;1420&quot;</td><td>&quot;1420&quot;</td><td>&quot;1420&quot;</td><td>&quot;1440&quot;</td><td>&quot;1450&quot;</td><td>&quot;1470&quot;</td><td>&quot;1490&quot;</td><td>&quot;1510&quot;</td><td>&quot;1530&quot;</td><td>&quot;1540&quot;</td><td>&quot;1560&quot;</td><td>&quot;1580&quot;</td><td>&quot;1600&quot;</td><td>&quot;1620&quot;</td><td>&quot;1640&quot;</td><td>&quot;1660&quot;</td><td>&quot;1680&quot;</td><td>&quot;1700&quot;</td><td>&hellip;</td><td>&quot;70k&quot;</td><td>&quot;70.5k&quot;</td><td>&quot;70.9k&quot;</td><td>&quot;71.3k&quot;</td><td>&quot;71.8k&quot;</td><td>&quot;72.2k&quot;</td><td>&quot;72.6k&quot;</td><td>&quot;73k&quot;</td><td>&quot;73.4k&quot;</td><td>&quot;73.8k&quot;</td><td>&quot;74.2k&quot;</td><td>&quot;74.5k&quot;</td><td>&quot;74.9k&quot;</td><td>&quot;75.3k&quot;</td><td>&quot;75.6k&quot;</td><td>&quot;76k&quot;</td><td>&quot;76.4k&quot;</td><td>&quot;76.7k&quot;</td><td>&quot;77k&quot;</td><td>&quot;77.4k&quot;</td><td>&quot;77.7k&quot;</td><td>&quot;78k&quot;</td><td>&quot;78.4k&quot;</td><td>&quot;78.7k&quot;</td><td>&quot;79k&quot;</td><td>&quot;79.3k&quot;</td><td>&quot;79.6k&quot;</td><td>&quot;79.9k&quot;</td><td>&quot;80.2k&quot;</td><td>&quot;80.4k&quot;</td><td>&quot;80.7k&quot;</td><td>&quot;81k&quot;</td><td>&quot;81.3k&quot;</td><td>&quot;81.5k&quot;</td><td>&quot;81.8k&quot;</td><td>&quot;82k&quot;</td><td>&quot;82.3k&quot;</td></tr><tr><td>&quot;UAE&quot;</td><td>&quot;1140&quot;</td><td>&quot;1150&quot;</td><td>&quot;1150&quot;</td><td>&quot;1150&quot;</td><td>&quot;1160&quot;</td><td>&quot;1160&quot;</td><td>&quot;1170&quot;</td><td>&quot;1170&quot;</td><td>&quot;1180&quot;</td><td>&quot;1180&quot;</td><td>&quot;1190&quot;</td><td>&quot;1190&quot;</td><td>&quot;1190&quot;</td><td>&quot;1200&quot;</td><td>&quot;1200&quot;</td><td>&quot;1210&quot;</td><td>&quot;1210&quot;</td><td>&quot;1220&quot;</td><td>&quot;1220&quot;</td><td>&quot;1230&quot;</td><td>&quot;1230&quot;</td><td>&quot;1240&quot;</td><td>&quot;1240&quot;</td><td>&quot;1240&quot;</td><td>&quot;1250&quot;</td><td>&quot;1250&quot;</td><td>&quot;1260&quot;</td><td>&quot;1260&quot;</td><td>&quot;1270&quot;</td><td>&quot;1270&quot;</td><td>&quot;1280&quot;</td><td>&quot;1280&quot;</td><td>&quot;1290&quot;</td><td>&quot;1290&quot;</td><td>&quot;1300&quot;</td><td>&quot;1300&quot;</td><td>&hellip;</td><td>&quot;91.3k&quot;</td><td>&quot;91.3k&quot;</td><td>&quot;91.4k&quot;</td><td>&quot;91.5k&quot;</td><td>&quot;91.5k&quot;</td><td>&quot;91.6k&quot;</td><td>&quot;91.6k&quot;</td><td>&quot;91.7k&quot;</td><td>&quot;91.7k&quot;</td><td>&quot;91.8k&quot;</td><td>&quot;91.8k&quot;</td><td>&quot;91.9k&quot;</td><td>&quot;91.9k&quot;</td><td>&quot;92k&quot;</td><td>&quot;92k&quot;</td><td>&quot;92.1k&quot;</td><td>&quot;92.1k&quot;</td><td>&quot;92.2k&quot;</td><td>&quot;92.2k&quot;</td><td>&quot;92.3k&quot;</td><td>&quot;92.3k&quot;</td><td>&quot;92.3k&quot;</td><td>&quot;92.4k&quot;</td><td>&quot;92.4k&quot;</td><td>&quot;92.5k&quot;</td><td>&quot;92.5k&quot;</td><td>&quot;92.5k&quot;</td><td>&quot;92.6k&quot;</td><td>&quot;92.6k&quot;</td><td>&quot;92.6k&quot;</td><td>&quot;92.7k&quot;</td><td>&quot;92.7k&quot;</td><td>&quot;92.7k&quot;</td><td>&quot;92.8k&quot;</td><td>&quot;92.8k&quot;</td><td>&quot;92.8k&quot;</td><td>&quot;92.9k&quot;</td></tr><tr><td>&hellip;</td><td>&hellip;</td><td>&hellip;</td><td>&hellip;</td><td>&hellip;</td><td>&hellip;</td><td>&hellip;</td><td>&hellip;</td><td>&hellip;</td><td>&hellip;</td><td>&hellip;</td><td>&hellip;</td><td>&hellip;</td><td>&hellip;</td><td>&hellip;</td><td>&hellip;</td><td>&hellip;</td><td>&hellip;</td><td>&hellip;</td><td>&hellip;</td><td>&hellip;</td><td>&hellip;</td><td>&hellip;</td><td>&hellip;</td><td>&hellip;</td><td>&hellip;</td><td>&hellip;</td><td>&hellip;</td><td>&hellip;</td><td>&hellip;</td><td>&hellip;</td><td>&hellip;</td><td>&hellip;</td><td>&hellip;</td><td>&hellip;</td><td>&hellip;</td><td>&hellip;</td><td>&hellip;</td><td>&hellip;</td><td>&hellip;</td><td>&hellip;</td><td>&hellip;</td><td>&hellip;</td><td>&hellip;</td><td>&hellip;</td><td>&hellip;</td><td>&hellip;</td><td>&hellip;</td><td>&hellip;</td><td>&hellip;</td><td>&hellip;</td><td>&hellip;</td><td>&hellip;</td><td>&hellip;</td><td>&hellip;</td><td>&hellip;</td><td>&hellip;</td><td>&hellip;</td><td>&hellip;</td><td>&hellip;</td><td>&hellip;</td><td>&hellip;</td><td>&hellip;</td><td>&hellip;</td><td>&hellip;</td><td>&hellip;</td><td>&hellip;</td><td>&hellip;</td><td>&hellip;</td><td>&hellip;</td><td>&hellip;</td><td>&hellip;</td><td>&hellip;</td><td>&hellip;</td><td>&hellip;</td></tr><tr><td>&quot;Samoa&quot;</td><td>&quot;1600&quot;</td><td>&quot;1600&quot;</td><td>&quot;1600&quot;</td><td>&quot;1600&quot;</td><td>&quot;1600&quot;</td><td>&quot;1600&quot;</td><td>&quot;1600&quot;</td><td>&quot;1600&quot;</td><td>&quot;1600&quot;</td><td>&quot;1600&quot;</td><td>&quot;1600&quot;</td><td>&quot;1600&quot;</td><td>&quot;1610&quot;</td><td>&quot;1610&quot;</td><td>&quot;1610&quot;</td><td>&quot;1610&quot;</td><td>&quot;1610&quot;</td><td>&quot;1610&quot;</td><td>&quot;1610&quot;</td><td>&quot;1610&quot;</td><td>&quot;1610&quot;</td><td>&quot;1610&quot;</td><td>&quot;1620&quot;</td><td>&quot;1620&quot;</td><td>&quot;1630&quot;</td><td>&quot;1630&quot;</td><td>&quot;1640&quot;</td><td>&quot;1650&quot;</td><td>&quot;1650&quot;</td><td>&quot;1660&quot;</td><td>&quot;1660&quot;</td><td>&quot;1670&quot;</td><td>&quot;1670&quot;</td><td>&quot;1680&quot;</td><td>&quot;1690&quot;</td><td>&quot;1690&quot;</td><td>&hellip;</td><td>&quot;13.1k&quot;</td><td>&quot;13.4k&quot;</td><td>&quot;13.7k&quot;</td><td>&quot;14k&quot;</td><td>&quot;14.4k&quot;</td><td>&quot;14.7k&quot;</td><td>&quot;15.1k&quot;</td><td>&quot;15.4k&quot;</td><td>&quot;15.8k&quot;</td><td>&quot;16.2k&quot;</td><td>&quot;16.5k&quot;</td><td>&quot;16.9k&quot;</td><td>&quot;17.3k&quot;</td><td>&quot;17.7k&quot;</td><td>&quot;18.1k&quot;</td><td>&quot;18.5k&quot;</td><td>&quot;18.9k&quot;</td><td>&quot;19.4k&quot;</td><td>&quot;19.8k&quot;</td><td>&quot;20.2k&quot;</td><td>&quot;20.7k&quot;</td><td>&quot;21.1k&quot;</td><td>&quot;21.6k&quot;</td><td>&quot;22k&quot;</td><td>&quot;22.5k&quot;</td><td>&quot;23k&quot;</td><td>&quot;23.5k&quot;</td><td>&quot;24k&quot;</td><td>&quot;24.5k&quot;</td><td>&quot;25k&quot;</td><td>&quot;25.5k&quot;</td><td>&quot;26k&quot;</td><td>&quot;26.5k&quot;</td><td>&quot;27k&quot;</td><td>&quot;27.6k&quot;</td><td>&quot;28.1k&quot;</td><td>&quot;28.6k&quot;</td></tr><tr><td>&quot;Yemen&quot;</td><td>&quot;1010&quot;</td><td>&quot;1010&quot;</td><td>&quot;1020&quot;</td><td>&quot;1020&quot;</td><td>&quot;1020&quot;</td><td>&quot;1020&quot;</td><td>&quot;1030&quot;</td><td>&quot;1030&quot;</td><td>&quot;1030&quot;</td><td>&quot;1030&quot;</td><td>&quot;1040&quot;</td><td>&quot;1040&quot;</td><td>&quot;1040&quot;</td><td>&quot;1050&quot;</td><td>&quot;1050&quot;</td><td>&quot;1050&quot;</td><td>&quot;1060&quot;</td><td>&quot;1060&quot;</td><td>&quot;1060&quot;</td><td>&quot;1060&quot;</td><td>&quot;1070&quot;</td><td>&quot;1070&quot;</td><td>&quot;1070&quot;</td><td>&quot;1080&quot;</td><td>&quot;1080&quot;</td><td>&quot;1080&quot;</td><td>&quot;1090&quot;</td><td>&quot;1090&quot;</td><td>&quot;1090&quot;</td><td>&quot;1100&quot;</td><td>&quot;1100&quot;</td><td>&quot;1100&quot;</td><td>&quot;1100&quot;</td><td>&quot;1110&quot;</td><td>&quot;1110&quot;</td><td>&quot;1110&quot;</td><td>&hellip;</td><td>&quot;3350&quot;</td><td>&quot;3420&quot;</td><td>&quot;3490&quot;</td><td>&quot;3570&quot;</td><td>&quot;3650&quot;</td><td>&quot;3730&quot;</td><td>&quot;3810&quot;</td><td>&quot;3890&quot;</td><td>&quot;3980&quot;</td><td>&quot;4070&quot;</td><td>&quot;4160&quot;</td><td>&quot;4260&quot;</td><td>&quot;4350&quot;</td><td>&quot;4450&quot;</td><td>&quot;4550&quot;</td><td>&quot;4660&quot;</td><td>&quot;4770&quot;</td><td>&quot;4880&quot;</td><td>&quot;4990&quot;</td><td>&quot;5110&quot;</td><td>&quot;5230&quot;</td><td>&quot;5350&quot;</td><td>&quot;5480&quot;</td><td>&quot;5610&quot;</td><td>&quot;5740&quot;</td><td>&quot;5880&quot;</td><td>&quot;6020&quot;</td><td>&quot;6170&quot;</td><td>&quot;6320&quot;</td><td>&quot;6470&quot;</td><td>&quot;6620&quot;</td><td>&quot;6780&quot;</td><td>&quot;6950&quot;</td><td>&quot;7120&quot;</td><td>&quot;7290&quot;</td><td>&quot;7470&quot;</td><td>&quot;7650&quot;</td></tr><tr><td>&quot;South Africa&quot;</td><td>&quot;1750&quot;</td><td>&quot;1730&quot;</td><td>&quot;1710&quot;</td><td>&quot;1690&quot;</td><td>&quot;1670&quot;</td><td>&quot;1590&quot;</td><td>&quot;1590&quot;</td><td>&quot;1720&quot;</td><td>&quot;1510&quot;</td><td>&quot;1470&quot;</td><td>&quot;1630&quot;</td><td>&quot;1290&quot;</td><td>&quot;1310&quot;</td><td>&quot;1650&quot;</td><td>&quot;1670&quot;</td><td>&quot;1390&quot;</td><td>&quot;1440&quot;</td><td>&quot;1500&quot;</td><td>&quot;1590&quot;</td><td>&quot;1380&quot;</td><td>&quot;1360&quot;</td><td>&quot;1610&quot;</td><td>&quot;1500&quot;</td><td>&quot;1510&quot;</td><td>&quot;1520&quot;</td><td>&quot;1540&quot;</td><td>&quot;1550&quot;</td><td>&quot;1560&quot;</td><td>&quot;1560&quot;</td><td>&quot;1570&quot;</td><td>&quot;1490&quot;</td><td>&quot;1420&quot;</td><td>&quot;1410&quot;</td><td>&quot;1400&quot;</td><td>&quot;1400&quot;</td><td>&quot;1390&quot;</td><td>&hellip;</td><td>&quot;28.4k&quot;</td><td>&quot;28.9k&quot;</td><td>&quot;29.5k&quot;</td><td>&quot;30.1k&quot;</td><td>&quot;30.6k&quot;</td><td>&quot;31.2k&quot;</td><td>&quot;31.8k&quot;</td><td>&quot;32.3k&quot;</td><td>&quot;32.9k&quot;</td><td>&quot;33.5k&quot;</td><td>&quot;34.1k&quot;</td><td>&quot;34.7k&quot;</td><td>&quot;35.3k&quot;</td><td>&quot;35.9k&quot;</td><td>&quot;36.5k&quot;</td><td>&quot;37.1k&quot;</td><td>&quot;37.7k&quot;</td><td>&quot;38.3k&quot;</td><td>&quot;38.9k&quot;</td><td>&quot;39.5k&quot;</td><td>&quot;40.2k&quot;</td><td>&quot;40.8k&quot;</td><td>&quot;41.4k&quot;</td><td>&quot;42k&quot;</td><td>&quot;42.6k&quot;</td><td>&quot;43.3k&quot;</td><td>&quot;43.9k&quot;</td><td>&quot;44.5k&quot;</td><td>&quot;45.1k&quot;</td><td>&quot;45.7k&quot;</td><td>&quot;46.4k&quot;</td><td>&quot;47k&quot;</td><td>&quot;47.6k&quot;</td><td>&quot;48.2k&quot;</td><td>&quot;48.8k&quot;</td><td>&quot;49.5k&quot;</td><td>&quot;50.1k&quot;</td></tr><tr><td>&quot;Zambia&quot;</td><td>&quot;533&quot;</td><td>&quot;535&quot;</td><td>&quot;536&quot;</td><td>&quot;537&quot;</td><td>&quot;539&quot;</td><td>&quot;539&quot;</td><td>&quot;541&quot;</td><td>&quot;543&quot;</td><td>&quot;543&quot;</td><td>&quot;545&quot;</td><td>&quot;547&quot;</td><td>&quot;547&quot;</td><td>&quot;549&quot;</td><td>&quot;550&quot;</td><td>&quot;551&quot;</td><td>&quot;553&quot;</td><td>&quot;554&quot;</td><td>&quot;555&quot;</td><td>&quot;557&quot;</td><td>&quot;558&quot;</td><td>&quot;559&quot;</td><td>&quot;561&quot;</td><td>&quot;563&quot;</td><td>&quot;563&quot;</td><td>&quot;565&quot;</td><td>&quot;567&quot;</td><td>&quot;567&quot;</td><td>&quot;569&quot;</td><td>&quot;571&quot;</td><td>&quot;572&quot;</td><td>&quot;573&quot;</td><td>&quot;575&quot;</td><td>&quot;576&quot;</td><td>&quot;577&quot;</td><td>&quot;579&quot;</td><td>&quot;580&quot;</td><td>&hellip;</td><td>&quot;8720&quot;</td><td>&quot;8930&quot;</td><td>&quot;9150&quot;</td><td>&quot;9380&quot;</td><td>&quot;9610&quot;</td><td>&quot;9840&quot;</td><td>&quot;10.1k&quot;</td><td>&quot;10.3k&quot;</td><td>&quot;10.6k&quot;</td><td>&quot;10.8k&quot;</td><td>&quot;11.1k&quot;</td><td>&quot;11.4k&quot;</td><td>&quot;11.7k&quot;</td><td>&quot;11.9k&quot;</td><td>&quot;12.2k&quot;</td><td>&quot;12.5k&quot;</td><td>&quot;12.8k&quot;</td><td>&quot;13.1k&quot;</td><td>&quot;13.4k&quot;</td><td>&quot;13.8k&quot;</td><td>&quot;14.1k&quot;</td><td>&quot;14.4k&quot;</td><td>&quot;14.8k&quot;</td><td>&quot;15.1k&quot;</td><td>&quot;15.5k&quot;</td><td>&quot;15.9k&quot;</td><td>&quot;16.2k&quot;</td><td>&quot;16.6k&quot;</td><td>&quot;17k&quot;</td><td>&quot;17.4k&quot;</td><td>&quot;17.8k&quot;</td><td>&quot;18.2k&quot;</td><td>&quot;18.6k&quot;</td><td>&quot;19k&quot;</td><td>&quot;19.4k&quot;</td><td>&quot;19.9k&quot;</td><td>&quot;20.3k&quot;</td></tr><tr><td>&quot;Zimbabwe&quot;</td><td>&quot;919&quot;</td><td>&quot;920&quot;</td><td>&quot;921&quot;</td><td>&quot;922&quot;</td><td>&quot;923&quot;</td><td>&quot;924&quot;</td><td>&quot;925&quot;</td><td>&quot;926&quot;</td><td>&quot;927&quot;</td><td>&quot;928&quot;</td><td>&quot;929&quot;</td><td>&quot;931&quot;</td><td>&quot;932&quot;</td><td>&quot;934&quot;</td><td>&quot;935&quot;</td><td>&quot;936&quot;</td><td>&quot;937&quot;</td><td>&quot;938&quot;</td><td>&quot;939&quot;</td><td>&quot;940&quot;</td><td>&quot;941&quot;</td><td>&quot;942&quot;</td><td>&quot;943&quot;</td><td>&quot;944&quot;</td><td>&quot;945&quot;</td><td>&quot;946&quot;</td><td>&quot;947&quot;</td><td>&quot;950&quot;</td><td>&quot;951&quot;</td><td>&quot;952&quot;</td><td>&quot;953&quot;</td><td>&quot;954&quot;</td><td>&quot;955&quot;</td><td>&quot;956&quot;</td><td>&quot;957&quot;</td><td>&quot;958&quot;</td><td>&hellip;</td><td>&quot;5160&quot;</td><td>&quot;5280&quot;</td><td>&quot;5400&quot;</td><td>&quot;5530&quot;</td><td>&quot;5660&quot;</td><td>&quot;5800&quot;</td><td>&quot;5940&quot;</td><td>&quot;6080&quot;</td><td>&quot;6220&quot;</td><td>&quot;6370&quot;</td><td>&quot;6530&quot;</td><td>&quot;6690&quot;</td><td>&quot;6850&quot;</td><td>&quot;7010&quot;</td><td>&quot;7180&quot;</td><td>&quot;7360&quot;</td><td>&quot;7540&quot;</td><td>&quot;7720&quot;</td><td>&quot;7910&quot;</td><td>&quot;8100&quot;</td><td>&quot;8300&quot;</td><td>&quot;8510&quot;</td><td>&quot;8710&quot;</td><td>&quot;8930&quot;</td><td>&quot;9150&quot;</td><td>&quot;9370&quot;</td><td>&quot;9600&quot;</td><td>&quot;9840&quot;</td><td>&quot;10.1k&quot;</td><td>&quot;10.3k&quot;</td><td>&quot;10.6k&quot;</td><td>&quot;10.8k&quot;</td><td>&quot;11.1k&quot;</td><td>&quot;11.4k&quot;</td><td>&quot;11.6k&quot;</td><td>&quot;11.9k&quot;</td><td>&quot;12.2k&quot;</td></tr></tbody></table></div>"
            ]
          },
          "metadata": {},
          "execution_count": 8
        }
      ]
    },
    {
      "cell_type": "markdown",
      "source": [
        "Our goal in this part is to all of this data into one tidy dataset. That is, we want a table that looks something like this.\n",
        "\n",
        "\n",
        "\n",
        "| Country     | Year | Emissions | GDP | Population |\n",
        "|-------------|------|-----------|-----|-------|\n",
        "| Afghanistan | 1800 | 0.001 | 481 | 3.28M |\n",
        "| Afghanistan | 1801 | 0.001 | 481 | 3.28M |\n",
        "| Afghanistan | 1803 | 0.001 | 481 | 3.28M |\n",
        "| Angola      | 1800 | 0.009 | 373 | 1.57M |\n",
        "| Angola      | 1801 | 0.009 | 374 | 1.57M |\n",
        "| Angola      | 1802 | 0.009 | 376 | 1.57M |\n",
        "|\tand |\tso \t| on |\t... |\n",
        "\n",
        "\n",
        "Where each row is an observation (a specific country's values in a specific year) and each column is an attribute.\n",
        "\n",
        "In order to do this you will need to first tidy up the individual tables of each data source. Then you will need to combine the individual tables together into one tidy dataframe. Consider the [`join`](https://docs.pola.rs/user-guide/transformations/joins/) operation, and make sure to be careful about the kind of join used, as not all of the tables have data for all of the same years. For example, what if one table had no CO2 data for a given year and country? Should that year be omitted entirely from the merged table? Or should those cells be given empty values?\n",
        "\n",
        "Similarly, what if the columns were named different things, like year in one table and emissionYear in another table? The various join methods provide options for handling these cases. Please give them a brief look in case you encounter these situations in future assignments."
      ],
      "metadata": {
        "id": "h_5b7j9a8tMV"
      }
    },
    {
      "cell_type": "code",
      "source": [
        "answer_3_2 = ...\n",
        "\n",
        "# Your code here\n",
        "\n",
        "answer_3_2"
      ],
      "metadata": {
        "id": "jA1p8j8O2IgC"
      },
      "execution_count": null,
      "outputs": []
    },
    {
      "cell_type": "markdown",
      "source": [
        "## 3.3: Cleaning and Wrangling Data\n",
        "___"
      ],
      "metadata": {
        "id": "J1nGyZpRuJwe"
      }
    },
    {
      "cell_type": "markdown",
      "source": [
        "Finally, you'll notice that the numerical fields don't really have numbers in them. The original data source (Gapminder) has provided the bigger numbers as strings, i.e., instead of the number 3280000, the table contains the value \"3.28M\".\n",
        "\n",
        "This makes things easy for a human to read, but really isn't going to work for visualization.\n",
        "\n",
        "\n",
        "\n",
        "\n",
        "The work of transforming, processing, and cleaning data to make it work for visualization and analysis is generally called *data wrangling* and in most data science and data engineering work takes up a shockingly large percentage of your actual time and effort. Polars provides many powerful and effeicent ways to do much of this work, in particular, ensure that you have fully understood Polars [expressions and contexts](https://docs.pola.rs/user-guide/concepts/expressions-and-contexts/).\n",
        "\n",
        "\n",
        "In the function below, define a polars **expression** that when run in a `with_columns` context will transform a series of strings such as \"3.28M\" into a series of numbers of a given datatype (either floats or integers)."
      ],
      "metadata": {
        "id": "aC5PkLb__zx0"
      }
    },
    {
      "cell_type": "code",
      "source": [
        "def parse_number_shorthand(series_name, dtype):\n",
        "  answer_3_3 = ...\n",
        "\n",
        "  # Your code here\n",
        "\n",
        "  return answer_3_3"
      ],
      "metadata": {
        "id": "k9_7EU1YUyB2"
      },
      "execution_count": null,
      "outputs": []
    },
    {
      "cell_type": "code",
      "source": [
        "gapminder_tidy = answer_3_2.with_columns(\n",
        "    parse_number_shorthand('year',pl.Int32),\n",
        "    parse_number_shorthand('population',pl.Int32),\n",
        "    parse_number_shorthand('gdp_per_capita',pl.Int32),\n",
        "    parse_number_shorthand('emissions_per_capita',pl.Float32),\n",
        ")\n",
        "gapminder_tidy"
      ],
      "metadata": {
        "id": "k59MIgliVWdZ"
      },
      "execution_count": null,
      "outputs": []
    },
    {
      "cell_type": "markdown",
      "source": [
        "Output should look somthing like this\n",
        "\n",
        "\n",
        "| country\t| year\t| population| \temissions_per_capita\t|gdp_per_capita|\n",
        "|--|--|--|--|--|\n",
        "|str|\ti32\t|i32\t|f32\t|i32|\n",
        "|--|--|--|--|--|\n",
        "|\"Afghanistan\"|\t1800\t|3280000|\t0.001\t|481|\n",
        "|\"Angola\"|\t1800|\t1570000|\t0.009|\t373|\n",
        "|\"Albania\"|\t1800|\t400000|\t0.001|\t469|\n",
        "|\"Andorra\"|1800|\t2650|\t0.333\t|1370|\n",
        "|\"UAE\"|\t1800|\t40200|\t0.063|\t1140|\n",
        "|...|...|...|...|...|"
      ],
      "metadata": {
        "id": "Ivqcr_VsBzi-"
      }
    },
    {
      "cell_type": "markdown",
      "source": [
        "## 3.4: Summarizing Data\n",
        "___"
      ],
      "metadata": {
        "id": "cSAaI5fzuW-y"
      }
    },
    {
      "cell_type": "markdown",
      "source": [
        "Now that we have wrangled our data into a useable form we can start to do some analysis and data summarization. Here calculate the total cumulative overall (**not** per capita) CO2 emissions from the USA from 1800-2022."
      ],
      "metadata": {
        "id": "kzZ56E-KDdX1"
      }
    },
    {
      "cell_type": "code",
      "source": [
        "answer_3_4 = ...\n",
        "\n",
        "# Your code here\n",
        "\n",
        "answer_3_4"
      ],
      "metadata": {
        "id": "GkiKBDP_shK8"
      },
      "execution_count": null,
      "outputs": []
    },
    {
      "cell_type": "markdown",
      "source": [
        "# Using Tidy Data for Interactive Visualization"
      ],
      "metadata": {
        "id": "gJk1Twu3urFe"
      }
    },
    {
      "cell_type": "markdown",
      "source": [
        "At last now we have built a dataframe that can be used to asnwer questions about our data, and can be integrated with interactive data visualization libraries like Altair. Run the cell below for an example of a reporoduction of the [famous gapminder animation](https://www.youtube.com/watch?v=hVimVzgtD6w), where you can use the slider to progress through the years, hover over circles to see the countries they represent, and zoom in to find interesting patters. I recomend you spend some time going over the source code as well, and play around with the choices I made in order to start learning Altair as it will be the primary python based library we will be using."
      ],
      "metadata": {
        "id": "FoIINVWeEnIC"
      }
    },
    {
      "cell_type": "code",
      "source": [
        "# @title Gapminder Interactive Animation\n",
        "year_slider = alt.binding_range(min=1950,max=2022, name='Year')\n",
        "selector = alt.selection_point(name='year_select',fields=['year'], bind=year_slider,value=1950)\n",
        "\n",
        "scatter = alt.Chart(gapminder_tidy).mark_circle(opacity=0.80).encode(\n",
        "        x=(alt.X('gdp_per_capita')\n",
        "              .sort(field= 'population', order= 'descending')\n",
        "              .scale(type=\"log\",domain=(100, 1000000))\n",
        "              .axis(grid=False)\n",
        "              .title('GDP per capita, log scale')\n",
        "          ),\n",
        "        y=(alt.Y('emissions_per_capita')\n",
        "              .sort(field= 'population', order= 'descending')\n",
        "              .scale(type=\"log\",domain=(0.001, 100))\n",
        "              .axis(grid=False)\n",
        "              .title('CO2 emissions (tonnes per capita), log scale')\n",
        "          ),\n",
        "        color=(alt.Color('country',legend=None)\n",
        "              .sort(field= 'country', order= 'descending')\n",
        "          ),\n",
        "        size=(alt.Size('population',legend=None)\n",
        "              .scale(range=(10, 10000))\n",
        "          ),\n",
        "        tooltip=['country','population','emissions_per_capita']\n",
        ").add_params(\n",
        "    selector\n",
        ").transform_filter(\n",
        "    selector\n",
        ")\n",
        "\n",
        "background_year = alt.Chart(gapminder_tidy).mark_text(\n",
        "    baseline='middle',\n",
        "    fontSize=75,\n",
        "    opacity=0.1\n",
        ").encode(\n",
        "    text='year:O'\n",
        ").transform_filter(\n",
        "    selector\n",
        ").transform_aggregate(\n",
        "    year='max(year)'\n",
        ")\n",
        "\n",
        "\n",
        "chart = alt.layer(\n",
        "    scatter, background_year\n",
        ").properties(\n",
        "    width=500,\n",
        "    height=500,\n",
        "    padding=10  # Padding ensures labels fit\n",
        ").configure_axis(\n",
        "    labelFontSize=12,\n",
        "    titleFontSize=12\n",
        ").interactive()\n",
        "\n",
        "chart\n",
        "\n"
      ],
      "metadata": {
        "cellView": "form",
        "id": "hiUJ97-wA6_a"
      },
      "execution_count": null,
      "outputs": []
    }
  ]
}