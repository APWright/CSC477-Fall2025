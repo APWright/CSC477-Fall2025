{
  "nbformat": 4,
  "nbformat_minor": 0,
  "metadata": {
    "colab": {
      "provenance": [],
      "authorship_tag": "ABX9TyORHYGSOI6nqLY+5FO++bJp",
      "include_colab_link": true
    },
    "kernelspec": {
      "name": "python3",
      "display_name": "Python 3"
    },
    "language_info": {
      "name": "python"
    }
  },
  "cells": [
    {
      "cell_type": "markdown",
      "metadata": {
        "id": "view-in-github",
        "colab_type": "text"
      },
      "source": [
        "<a href=\"https://colab.research.google.com/github/APWright/CSC477-Fall2025/blob/main/In-Class/Intro_Altair.ipynb\" target=\"_parent\"><img src=\"https://colab.research.google.com/assets/colab-badge.svg\" alt=\"Open In Colab\"/></a>"
      ]
    },
    {
      "cell_type": "markdown",
      "source": [
        "# Data Visualization with Altair\n",
        "\n",
        "The previous lectures have talked about data-wrangling, marks, and channels.\n",
        "\n",
        "  - Data are the abstractions we choose to represent visually to allow users to perform some analytic, exploratory, or explanatory task.\n",
        "  - Marks are the shapes or \"glyphs\" drawn in the visualization.\n",
        "  - Channels are the visually perceptive properties of marks, like their horizontal or vertical positions, color, size, etc.\n",
        "\n",
        "With a basic framework of data, marks, and channels, we can design fairly sophisticated visualizations.\n",
        "\n",
        "The tool we will use in this class, Altiar (which is the python binding for Vega-Lite), makes use of this framework to provide a simple declarative grammar in which we can specify our visualizations."
      ],
      "metadata": {
        "id": "NJJtlSCJbITk"
      }
    },
    {
      "cell_type": "code",
      "execution_count": null,
      "metadata": {
        "id": "gxNWdwCGaz28"
      },
      "outputs": [],
      "source": [
        "import altair as alt\n",
        "from vega_datasets import data\n",
        "import polars as pl"
      ]
    },
    {
      "cell_type": "markdown",
      "source": [
        "## Dataset\n",
        "\n",
        "We'll use the cars dataset from the vega-datasets collection. It has a good mix of data types to help showcase some of Vega-Lite's core capabilities. Importantly it is a *tidy dataset*. Altair will only work properly with, and assumes, tidy data."
      ],
      "metadata": {
        "id": "cALTVY-BbXry"
      }
    },
    {
      "cell_type": "code",
      "source": [
        "cars = pl.DataFrame(data.cars())\n",
        "cars"
      ],
      "metadata": {
        "id": "jVn8_fzwbCpq"
      },
      "execution_count": null,
      "outputs": []
    },
    {
      "cell_type": "markdown",
      "source": [
        "## Our first chart\n",
        "\n",
        "To begin with, let's try to make a simple scatterplot that looks like this. This is just a screenshot of our target visualization.\n",
        "\n",
        "![example scatterplot](https://static.observableusercontent.com/files/f4a132c88d02a4d753acdf11b8a9f8ad3e320b6b9bfab64c8c7417e2a4bae210cb14c461269e0e63c9517a3abfcb00e4901210b6549b03f79950ba58fae42ae9)\n"
      ],
      "metadata": {
        "id": "6TmixJgubodM"
      }
    },
    {
      "cell_type": "markdown",
      "source": [
        "First, stop and ask:\n",
        "\n",
        "  - What mark is being drawn?\n",
        "  - What data is being visualized?\n",
        "  - Which visual channels are being used to communicate those data?\n"
      ],
      "metadata": {
        "id": "nCW_d15scLcy"
      }
    },
    {
      "cell_type": "code",
      "source": [
        "(\n",
        "    alt.Chart(cars)\n",
        "      .mark_circle()\n",
        "      .encode(\n",
        "          x='Miles_per_Gallon',\n",
        "          y='Horsepower'\n",
        "      )\n",
        ")"
      ],
      "metadata": {
        "id": "nUuoOHSfbeDn"
      },
      "execution_count": null,
      "outputs": []
    },
    {
      "cell_type": "code",
      "source": [
        "chart = alt.Chart(data.cars.url).mark_point().encode(\n",
        "          x='Miles_per_Gallon:Q',\n",
        "          y='Horsepower:Q'\n",
        "      )\n",
        "\n",
        "print(chart.to_json(indent=2))"
      ],
      "metadata": {
        "id": "6f5BldKEcjFP"
      },
      "execution_count": null,
      "outputs": []
    },
    {
      "cell_type": "markdown",
      "source": [
        "**Can we make improvements over the initial chart?**\n",
        "\n",
        "Right now it looks like there's a fair bit of overlap in the middle due to \"overplotting\". Lots of points are drawn on top of each other, obscuring the points underneath.\n",
        "\n",
        "Increasing the size of the plot may help."
      ],
      "metadata": {
        "id": "7vrvXlUTc0rQ"
      }
    },
    {
      "cell_type": "code",
      "source": [
        "(\n",
        "    alt.Chart(cars)\n",
        "      .mark_circle()\n",
        "      .encode(\n",
        "          x='Miles_per_Gallon',\n",
        "          y='Horsepower'\n",
        "      )\n",
        "      .properties(\n",
        "          width=800,\n",
        "          height=400\n",
        "      )\n",
        ")"
      ],
      "metadata": {
        "id": "ImJqezUBckO3"
      },
      "execution_count": null,
      "outputs": []
    },
    {
      "cell_type": "markdown",
      "source": [
        "The \"Miles_per_Gallon\" title for the x-axis is a little ugly. There's no reason why our table's column names need to appear in our charts. You can set axis options for the position encodings."
      ],
      "metadata": {
        "id": "8oqKL68weS2x"
      }
    },
    {
      "cell_type": "code",
      "source": [
        "(\n",
        "    alt.Chart(cars)\n",
        "      .mark_circle()\n",
        "      .encode(\n",
        "          x=alt.X(\n",
        "              'Miles_per_Gallon',\n",
        "              axis={'title':'Miles per Gallon (mpg)'}),\n",
        "          y='Horsepower'\n",
        "      )\n",
        "      .properties(\n",
        "          width=800,\n",
        "          height=400\n",
        "      )\n",
        ")"
      ],
      "metadata": {
        "id": "zsql-4ineRkI"
      },
      "execution_count": null,
      "outputs": []
    },
    {
      "cell_type": "markdown",
      "source": [
        "## Nominal fields\n",
        "\n",
        "Our dataset contains cars from the following Origins.\n",
        "|Origin\t|count|\n",
        "| -- | -- |\n",
        "|USA|\t254 |\n",
        "|Europe|\t73|\n",
        "|Japan\t|79|\n",
        "\n",
        "Let's incorporate that information into the chart.\n",
        "\n",
        "**Which visual channel do you think we should use?**"
      ],
      "metadata": {
        "id": "c927qCbYdzFQ"
      }
    },
    {
      "cell_type": "code",
      "source": [
        "(\n",
        "    alt.Chart(cars)\n",
        "      .mark_circle()\n",
        "      .encode(\n",
        "          x=alt.X(\n",
        "              'Miles_per_Gallon',\n",
        "              axis={'title':'Miles per Gallon (mpg)'}),\n",
        "          y='Horsepower',\n",
        "          color='Origin'\n",
        "      ).properties(\n",
        "          width=800,\n",
        "          height=400\n",
        "      )\n",
        ")"
      ],
      "metadata": {
        "id": "hoYPYyBLdf6j"
      },
      "execution_count": null,
      "outputs": []
    },
    {
      "cell_type": "markdown",
      "source": [
        "## Faceting\n"
      ],
      "metadata": {
        "id": "FVp7IZFLfH5I"
      }
    },
    {
      "cell_type": "code",
      "source": [
        "(\n",
        "    alt.Chart(cars)\n",
        "      .mark_circle()\n",
        "      .encode(\n",
        "          x=alt.X(\n",
        "              'Miles_per_Gallon',\n",
        "              axis={'title':'Miles per Gallon (mpg)'}),\n",
        "          y='Horsepower',\n",
        "          color=alt.Color('Origin',\n",
        "                          legend=None),\n",
        "          column='Origin'\n",
        "      )\n",
        ")"
      ],
      "metadata": {
        "id": "GDEFV0medyLk"
      },
      "execution_count": null,
      "outputs": []
    },
    {
      "cell_type": "markdown",
      "source": [
        "## Ordinal Fields\n",
        "Is `Cylinders` quantitative or ordinal?"
      ],
      "metadata": {
        "id": "JmI36IQkpJrn"
      }
    },
    {
      "cell_type": "code",
      "source": [
        "cars"
      ],
      "metadata": {
        "id": "bUWgDkNufhDP"
      },
      "execution_count": null,
      "outputs": []
    },
    {
      "cell_type": "code",
      "source": [
        "alt.Chart(cars.group_by('Cylinders').len()).mark_bar().encode(\n",
        "    x='Cylinders',\n",
        "    y='len',\n",
        ")"
      ],
      "metadata": {
        "id": "OiSFUbNCixvk"
      },
      "execution_count": null,
      "outputs": []
    },
    {
      "cell_type": "code",
      "source": [
        "alt.Chart(cars.group_by('Cylinders').len()).mark_bar(size=40).encode(\n",
        "    x='Cylinders',\n",
        "    y='len',\n",
        ")"
      ],
      "metadata": {
        "id": "3oVn8oSvpFlE"
      },
      "execution_count": null,
      "outputs": []
    },
    {
      "cell_type": "code",
      "source": [
        "alt.Chart(cars.group_by('Cylinders').len()).mark_bar().encode(\n",
        "    x='Cylinders:O',\n",
        "    y='len',\n",
        ")"
      ],
      "metadata": {
        "id": "W9ejqr6ch93R"
      },
      "execution_count": null,
      "outputs": []
    },
    {
      "cell_type": "code",
      "source": [
        "alt.Chart(\n",
        "    cars.group_by('Cylinders').agg(pl.col('Acceleration').mean())\n",
        ").mark_bar().encode(\n",
        "    x='Cylinders:O',\n",
        "    y='Acceleration',\n",
        ")"
      ],
      "metadata": {
        "id": "oOtZEOP3pZ2H"
      },
      "execution_count": null,
      "outputs": []
    },
    {
      "cell_type": "code",
      "source": [
        "alt.Chart(cars).mark_bar().encode(\n",
        "    alt.X('Miles_per_Gallon').bin(True),\n",
        "    alt.Y('Horsepower').bin(True),\n",
        "    alt.Color(aggregate='count')\n",
        ")"
      ],
      "metadata": {
        "id": "kvZVDZxuqpmi"
      },
      "execution_count": null,
      "outputs": []
    },
    {
      "cell_type": "markdown",
      "source": [
        "Explore more!\n",
        "\n",
        "https://altair-viz.github.io/\n",
        "\n",
        "https://colab.research.google.com/github/altair-viz/altair-tutorial/blob/master/notebooks/Index.ipynb\n",
        "\n"
      ],
      "metadata": {
        "id": "HBq_PQs3emnz"
      }
    },
    {
      "cell_type": "code",
      "source": [],
      "metadata": {
        "id": "-xEUq3xCeBCv"
      },
      "execution_count": null,
      "outputs": []
    }
  ]
}